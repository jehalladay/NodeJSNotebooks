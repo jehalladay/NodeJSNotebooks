{
 "cells": [
  {
   "cell_type": "markdown",
   "metadata": {},
   "source": [
    "# JSON\n",
    " - <strong>J</strong>ava<strong>S</strong>cript <strong>O</strong>bject <strong>N</strong>otation\n",
    " - lightweight data interchange (storing and transporting) format\n",
    " - JSON is \"self-describing\" and easy to understand\n",
    " - JSON is language independent (text only format, that's used by many languages)\n",
    " - see package.json file used by npm, e.g."
   ]
  },
  {
   "cell_type": "code",
   "execution_count": 1,
   "metadata": {},
   "outputs": [
    {
     "data": {
      "text/plain": [
       "undefined"
      ]
     },
     "execution_count": 1,
     "metadata": {},
     "output_type": "execute_result"
    }
   ],
   "source": [
    "var jsonText = '{firstName: \"John\", lastName:\"Smith\"}';"
   ]
  },
  {
   "cell_type": "markdown",
   "metadata": {},
   "source": [
    "### following example defines an array of 3 employee records (objects) using JSON notation"
   ]
  },
  {
   "cell_type": "code",
   "execution_count": 2,
   "metadata": {},
   "outputs": [
    {
     "name": "stdout",
     "output_type": "stream",
     "text": [
      "{ employees:\n",
      "   [ { firstName: 'John', lastName: 'Doe' },\n",
      "     { firstName: 'Anna', lastName: 'Smith' },\n",
      "     { firstName: 'Peter', lastName: 'Jones' } ] }\n"
     ]
    },
    {
     "data": {
      "text/plain": [
       "undefined"
      ]
     },
     "execution_count": 2,
     "metadata": {},
     "output_type": "execute_result"
    }
   ],
   "source": [
    "var emps = {\n",
    "\"employees\":[\n",
    "    {\"firstName\":\"John\", \"lastName\":\"Doe\"}, \n",
    "    {\"firstName\":\"Anna\", \"lastName\":\"Smith\"},\n",
    "    {\"firstName\":\"Peter\", \"lastName\":\"Jones\"}\n",
    "]\n",
    "}\n",
    "console.log(emps);"
   ]
  },
  {
   "cell_type": "markdown",
   "metadata": {},
   "source": [
    "## JSON Syntax Rules\n",
    "- Data is in name:value pairs\n",
    "- data is separated by commas\n",
    "- curley braces hold an object\n",
    "- square brackets hold arrays"
   ]
  },
  {
   "cell_type": "markdown",
   "metadata": {},
   "source": [
    "### converting JSON Text to a JS Object"
   ]
  },
  {
   "cell_type": "code",
   "execution_count": 3,
   "metadata": {},
   "outputs": [
    {
     "data": {
      "text/plain": [
       "undefined"
      ]
     },
     "execution_count": 3,
     "metadata": {},
     "output_type": "execute_result"
    }
   ],
   "source": [
    "var text = '{ \"employees\" : [' +\n",
    "'{ \"firstName\":\"John\" , \"lastName\":\"Doe\" },' +\n",
    "'{ \"firstName\":\"Anna\" , \"lastName\":\"Smith\" },' +\n",
    "'{ \"firstName\":\"Peter\" , \"lastName\":\"Jones\" } ]}';"
   ]
  },
  {
   "cell_type": "code",
   "execution_count": 4,
   "metadata": {},
   "outputs": [
    {
     "data": {
      "text/plain": [
       "undefined"
      ]
     },
     "execution_count": 4,
     "metadata": {},
     "output_type": "execute_result"
    }
   ],
   "source": [
    "var object = JSON.parse(text);"
   ]
  },
  {
   "cell_type": "code",
   "execution_count": 5,
   "metadata": {},
   "outputs": [
    {
     "name": "stdout",
     "output_type": "stream",
     "text": [
      "{ employees:\n",
      "   [ { firstName: 'John', lastName: 'Doe' },\n",
      "     { firstName: 'Anna', lastName: 'Smith' },\n",
      "     { firstName: 'Peter', lastName: 'Jones' } ] }\n"
     ]
    },
    {
     "data": {
      "text/plain": [
       "undefined"
      ]
     },
     "execution_count": 5,
     "metadata": {},
     "output_type": "execute_result"
    }
   ],
   "source": [
    "console.log(object);"
   ]
  },
  {
   "cell_type": "code",
   "execution_count": 6,
   "metadata": {},
   "outputs": [
    {
     "name": "stdout",
     "output_type": "stream",
     "text": [
      "{ firstName: 'John', lastName: 'Doe' }\n"
     ]
    },
    {
     "data": {
      "text/plain": [
       "undefined"
      ]
     },
     "execution_count": 6,
     "metadata": {},
     "output_type": "execute_result"
    }
   ],
   "source": [
    "console.log(object.employees[0]);"
   ]
  },
  {
   "cell_type": "code",
   "execution_count": 7,
   "metadata": {},
   "outputs": [
    {
     "name": "stdout",
     "output_type": "stream",
     "text": [
      "Anna\n"
     ]
    },
    {
     "data": {
      "text/plain": [
       "undefined"
      ]
     },
     "execution_count": 7,
     "metadata": {},
     "output_type": "execute_result"
    }
   ],
   "source": [
    "console.log(object.employees[1].firstName);"
   ]
  },
  {
   "cell_type": "code",
   "execution_count": 8,
   "metadata": {},
   "outputs": [
    {
     "name": "stdout",
     "output_type": "stream",
     "text": [
      "Smith\n"
     ]
    },
    {
     "data": {
      "text/plain": [
       "undefined"
      ]
     },
     "execution_count": 8,
     "metadata": {},
     "output_type": "execute_result"
    }
   ],
   "source": [
    "console.log(object.employees[1].lastName);"
   ]
  },
  {
   "cell_type": "markdown",
   "metadata": {},
   "source": [
    "## read json file - package.json"
   ]
  },
  {
   "cell_type": "code",
   "execution_count": 9,
   "metadata": {},
   "outputs": [
    {
     "name": "stdout",
     "output_type": "stream",
     "text": [
      "{\n",
      "  \"name\": \"NodeJSNotebooks\",\n",
      "  \"version\": \"1.0.0\",\n",
      "  \"description\": \"Jupyter notebooks for learning JavaScript(JS)/ECMAScript (ES 6) using Node.js\",\n",
      "  \"main\": \"index.js\",\n",
      "  \"scripts\": {\n",
      "    \"test\": \"echo \\\"Error: no test specified\\\" && exit 1\"\n",
      "  },\n",
      "  \"repository\": {\n",
      "    \"type\": \"git\",\n",
      "    \"url\": \"git+https://github.com/rambasnet/NodeJSNotebooks.git\"\n",
      "  },\n",
      "  \"keywords\": [],\n",
      "  \"author\": \"\",\n",
      "  \"license\": \"ISC\",\n",
      "  \"bugs\": {\n",
      "    \"url\": \"https://github.com/rambasnet/NodeJSNotebooks/issues\"\n",
      "  },\n",
      "  \"homepage\": \"https://github.com/rambasnet/NodeJSNotebooks#readme\",\n",
      "  \"dependencies\": {\n",
      "    \"readline-sync\": \"^1.4.9\"\n",
      "  }\n",
      "}\n",
      "\n"
     ]
    },
    {
     "data": {
      "text/plain": [
       "undefined"
      ]
     },
     "execution_count": 9,
     "metadata": {},
     "output_type": "execute_result"
    }
   ],
   "source": [
    "// create json file\n",
    "var fs = require('fs');\n",
    "var data = fs.readFileSync('package.json');\n",
    "console.log(data.toString());"
   ]
  },
  {
   "cell_type": "code",
   "execution_count": 10,
   "metadata": {},
   "outputs": [
    {
     "data": {
      "text/plain": [
       "undefined"
      ]
     },
     "execution_count": 10,
     "metadata": {},
     "output_type": "execute_result"
    }
   ],
   "source": [
    "var package = JSON.parse(data);"
   ]
  },
  {
   "cell_type": "code",
   "execution_count": 11,
   "metadata": {},
   "outputs": [
    {
     "name": "stdout",
     "output_type": "stream",
     "text": [
      "{ name: 'NodeJSNotebooks',\n",
      "  version: '1.0.0',\n",
      "  description:\n",
      "   'Jupyter notebooks for learning JavaScript(JS)/ECMAScript (ES 6) using Node.js',\n",
      "  main: 'index.js',\n",
      "  scripts: { test: 'echo \"Error: no test specified\" && exit 1' },\n",
      "  repository:\n",
      "   { type: 'git',\n",
      "     url: 'git+https://github.com/rambasnet/NodeJSNotebooks.git' },\n",
      "  keywords: [],\n",
      "  author: '',\n",
      "  license: 'ISC',\n",
      "  bugs:\n",
      "   { url: 'https://github.com/rambasnet/NodeJSNotebooks/issues' },\n",
      "  homepage: 'https://github.com/rambasnet/NodeJSNotebooks#readme',\n",
      "  dependencies: { 'readline-sync': '^1.4.9' } }\n"
     ]
    },
    {
     "data": {
      "text/plain": [
       "undefined"
      ]
     },
     "execution_count": 11,
     "metadata": {},
     "output_type": "execute_result"
    }
   ],
   "source": [
    "console.log(package);"
   ]
  },
  {
   "cell_type": "code",
   "execution_count": 12,
   "metadata": {},
   "outputs": [
    {
     "name": "stdout",
     "output_type": "stream",
     "text": [
      "NodeJSNotebooks\n"
     ]
    },
    {
     "data": {
      "text/plain": [
       "undefined"
      ]
     },
     "execution_count": 12,
     "metadata": {},
     "output_type": "execute_result"
    }
   ],
   "source": [
    "console.log(package.name);"
   ]
  },
  {
   "cell_type": "code",
   "execution_count": 13,
   "metadata": {},
   "outputs": [
    {
     "name": "stdout",
     "output_type": "stream",
     "text": [
      "{ test: 'echo \"Error: no test specified\" && exit 1' }\n"
     ]
    },
    {
     "data": {
      "text/plain": [
       "undefined"
      ]
     },
     "execution_count": 13,
     "metadata": {},
     "output_type": "execute_result"
    }
   ],
   "source": [
    "console.log(package.scripts);"
   ]
  },
  {
   "cell_type": "code",
   "execution_count": 14,
   "metadata": {},
   "outputs": [
    {
     "name": "stdout",
     "output_type": "stream",
     "text": [
      "echo \"Error: no test specified\" && exit 1\n"
     ]
    },
    {
     "data": {
      "text/plain": [
       "undefined"
      ]
     },
     "execution_count": 14,
     "metadata": {},
     "output_type": "execute_result"
    }
   ],
   "source": [
    "console.log(package.scripts.test);"
   ]
  },
  {
   "cell_type": "code",
   "execution_count": 15,
   "metadata": {},
   "outputs": [
    {
     "name": "stdout",
     "output_type": "stream",
     "text": [
      "git+https://github.com/rambasnet/NodeJSNotebooks.git\n"
     ]
    },
    {
     "data": {
      "text/plain": [
       "undefined"
      ]
     },
     "execution_count": 15,
     "metadata": {},
     "output_type": "execute_result"
    }
   ],
   "source": [
    "console.log(package.repository.url);"
   ]
  },
  {
   "cell_type": "markdown",
   "metadata": {},
   "source": [
    "## converting JS object to string\n",
    "- JSON.stringify()"
   ]
  },
  {
   "cell_type": "code",
   "execution_count": 16,
   "metadata": {},
   "outputs": [
    {
     "name": "stdout",
     "output_type": "stream",
     "text": [
      "{\"name\":\"John\",\"age\":31,\"city\":\"New York\"}\n",
      "string\n"
     ]
    },
    {
     "data": {
      "text/plain": [
       "undefined"
      ]
     },
     "execution_count": 16,
     "metadata": {},
     "output_type": "execute_result"
    }
   ],
   "source": [
    "// a JavaScript object...:\n",
    "var myObj = {name:\"John\", \"age\":31, \"city\":\"New York\" };\n",
    "// ...converted into JSON:\n",
    "var myJSON = JSON.stringify(myObj);\n",
    "console.log(myJSON);\n",
    "console.log(typeof myJSON);"
   ]
  },
  {
   "cell_type": "markdown",
   "metadata": {},
   "source": [
    "## valid data types\n",
    "- a string\n",
    "- a number\n",
    "- an object (containing valid JSON values)\n",
    "- an array\n",
    "- a boolean\n",
    "- null"
   ]
  },
  {
   "cell_type": "code",
   "execution_count": null,
   "metadata": {},
   "outputs": [],
   "source": []
  }
 ],
 "metadata": {
  "kernelspec": {
   "display_name": "Javascript (Node.js)",
   "language": "javascript",
   "name": "javascript"
  },
  "language_info": {
   "file_extension": ".js",
   "mimetype": "application/javascript",
   "name": "javascript",
   "version": "10.10.0"
  }
 },
 "nbformat": 4,
 "nbformat_minor": 2
}
