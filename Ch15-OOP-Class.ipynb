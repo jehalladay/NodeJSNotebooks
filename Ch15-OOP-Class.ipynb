{
 "cells": [
  {
   "cell_type": "markdown",
   "metadata": {},
   "source": [
    "# Object Oriented Programming (OOP)\n",
    "\n",
    "- we've been using procedural programming paradigm; focus on functions/procedures\n",
    "- OOP paradigm is best used in large and complex modern software systems which make it easy to maintain and improve over time\n",
    "- focus is on creation of objects which contain both data and functionality together under one name\n",
    "- typically, each class definition corresponds to some object or concept in the real world with some attributes/properties that maintain its state; and the functions/methods correspond to the ways real-world objects interact\n",
    "- Object or dictionary data structure {} allowed us to create Objects\n",
    "- ES6 allows us to create objects using class similar to other programming languages such as C++, Java, and Python"
   ]
  },
  {
   "cell_type": "markdown",
   "metadata": {},
   "source": [
    "## class\n",
    "- class keyword lets programmers define their own compound data types\n",
    "- class is like blueprint or template that lets us generate many instances of that class\n",
    "- each instance of the that class is called object\n",
    "\n",
    "<pre>\n",
    "class className {\n",
    "    /*\n",
    "        properties and actions or methods\n",
    "    */\n",
    "}\n",
    "</pre>"
   ]
  },
  {
   "cell_type": "markdown",
   "metadata": {},
   "source": [
    "### example: car class that'll help us represent many instances of car objects"
   ]
  },
  {
   "cell_type": "code",
   "execution_count": 1,
   "metadata": {},
   "outputs": [
    {
     "data": {
      "text/plain": [
       "undefined"
      ]
     },
     "execution_count": 1,
     "metadata": {},
     "output_type": "execute_result"
    }
   ],
   "source": [
    "class Car {\n",
    "}"
   ]
  },
  {
   "cell_type": "code",
   "execution_count": 4,
   "metadata": {},
   "outputs": [
    {
     "name": "stdout",
     "output_type": "stream",
     "text": [
      "object\n",
      "function\n",
      "true\n"
     ]
    },
    {
     "data": {
      "text/plain": [
       "undefined"
      ]
     },
     "execution_count": 4,
     "metadata": {},
     "output_type": "execute_result"
    }
   ],
   "source": [
    "// use new operator to create a new instance of a class\n",
    "var myTesla = new Car();\n",
    "console.log(typeof myTesla);\n",
    "console.log(typeof Car);\n",
    "console.log(myTesla instanceof Car)"
   ]
  },
  {
   "cell_type": "markdown",
   "metadata": {},
   "source": [
    "## properties and methods\n",
    "- data or values that represent a class are called properties\n",
    "- operations or functions that manipulate properties are called methods\n",
    "- use this keyword to access properties and methods inside class\n",
    "- constructor is a special method/function that gets called automatically when we create an instance from the class\n",
    "- getter methods are used to get properties\n",
    "- setter methods are used to set properties\n",
    "- after initilization in constructor, getter and setter help us do do data validation"
   ]
  },
  {
   "cell_type": "code",
   "execution_count": 1,
   "metadata": {},
   "outputs": [
    {
     "data": {
      "text/plain": [
       "undefined"
      ]
     },
     "execution_count": 1,
     "metadata": {},
     "output_type": "execute_result"
    }
   ],
   "source": [
    "class Person {\n",
    "    constructor(id, fName, lName) {\n",
    "        this._id = id;\n",
    "        this._fName = fName;\n",
    "        this._lName = lName;\n",
    "        this._DOB = \"\";\n",
    "        this._address = \"\";\n",
    "    }\n",
    "    get name() {\n",
    "        return this._fName + \" \" + this._lName;\n",
    "    }\n",
    "    get id() {\n",
    "        return this._id;\n",
    "    }\n",
    "    set DOB(dob) {\n",
    "        this._DOB = dob;\n",
    "    }\n",
    "    get DOB() {\n",
    "        return this._DOB;\n",
    "    }\n",
    "}"
   ]
  },
  {
   "cell_type": "code",
   "execution_count": 2,
   "metadata": {},
   "outputs": [
    {
     "name": "stdout",
     "output_type": "stream",
     "text": [
      "John Doe\n",
      "Person {\n",
      "  _id: 1,\n",
      "  _fName: 'John',\n",
      "  _lName: 'Doe',\n",
      "  _DOB: '1/1/1990',\n",
      "  _address: '' }\n"
     ]
    },
    {
     "data": {
      "text/plain": [
       "undefined"
      ]
     },
     "execution_count": 2,
     "metadata": {},
     "output_type": "execute_result"
    }
   ],
   "source": [
    "var player = new Person(1, \"John\", \"Doe\"); // intiantiate a player object\n",
    "console.log(player.name)\n",
    "player.DOB = \"1/1/1990\"\n",
    "console.log(player)"
   ]
  },
  {
   "cell_type": "code",
   "execution_count": 3,
   "metadata": {},
   "outputs": [
    {
     "name": "stdout",
     "output_type": "stream",
     "text": [
      "1\n"
     ]
    },
    {
     "data": {
      "text/plain": [
       "undefined"
      ]
     },
     "execution_count": 3,
     "metadata": {},
     "output_type": "execute_result"
    }
   ],
   "source": [
    "console.log(player.id);"
   ]
  },
  {
   "cell_type": "markdown",
   "metadata": {},
   "source": [
    "### exercise: define a class to represent rectangle, implement area and perimeter method"
   ]
  },
  {
   "cell_type": "code",
   "execution_count": null,
   "metadata": {},
   "outputs": [],
   "source": []
  }
 ],
 "metadata": {
  "kernelspec": {
   "display_name": "Javascript (Node.js)",
   "language": "javascript",
   "name": "javascript"
  },
  "language_info": {
   "file_extension": ".js",
   "mimetype": "application/javascript",
   "name": "javascript",
   "version": "10.10.0"
  }
 },
 "nbformat": 4,
 "nbformat_minor": 2
}
