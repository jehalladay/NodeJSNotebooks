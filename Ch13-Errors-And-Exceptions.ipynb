{
 "cells": [
  {
   "cell_type": "markdown",
   "metadata": {},
   "source": [
    "# Errors\n",
    "- dealing with bugs is normal part of programming\n",
    "- debugging is a very handy programming skill\n",
    "\n",
    "## category of errors/bugs\n",
    "- syntax errors\n",
    "- logical/semantic errros\n",
    "- runtime errors/exceptions"
   ]
  },
  {
   "cell_type": "markdown",
   "metadata": {},
   "source": [
    "## execeptions\n",
    "- https://developer.mozilla.org/en-US/docs/Web/JavaScript/Reference/Global_Objects/Error\n",
    "- applications running in Node.js will generally experience four categories of runtime-errors or exceptions\n",
    "- standard JavaScript errors such as EvalError, SyntaxError, RangeError, ReferenceError, TypeError, and URIError.\n",
    "- System errors triggered by underlying operating system constraints such as attempting to open a file that does not exist or attempting to send data over a closed socket.\n",
    "- User-specified errors triggered by application code.\n",
    "- AssertionErrors are a special class of error that can be triggered when Node.js detects an exceptional logic violation that should never occur. These are raised typically by the assert module.\n",
    "- All JavaScript and System errors raised by Node.js inherit from, or are instances of, the standard JavaScript <Error> class and are guaranteed to provide at least the properties available on that class."
   ]
  },
  {
   "cell_type": "code",
   "execution_count": null,
   "metadata": {},
   "outputs": [],
   "source": [
    "console.log(x)"
   ]
  },
  {
   "cell_type": "code",
   "execution_count": null,
   "metadata": {},
   "outputs": [],
   "source": [
    "console.log{}"
   ]
  },
  {
   "cell_type": "code",
   "execution_count": null,
   "metadata": {},
   "outputs": [],
   "source": [
    "const module = require('some-module');"
   ]
  },
  {
   "cell_type": "code",
   "execution_count": null,
   "metadata": {},
   "outputs": [],
   "source": [
    "null.property()"
   ]
  },
  {
   "cell_type": "markdown",
   "metadata": {},
   "source": [
    "## handling/catching exceptions\n",
    "- Syntax\n",
    "<pre>\n",
    "try {\n",
    "    // code that my potentially throw exception\n",
    "}\n",
    "catch (exception) {\n",
    "    // handle specific error\n",
    "    if (exception instance of EvalError) {\n",
    "        // handle it here\n",
    "    }\n",
    "    else if (exception instance of RangeError) {\n",
    "        // handle it here\n",
    "    }\n",
    "    // etc...\n",
    "    else\n",
    "    {\n",
    "        // handle it here\n",
    "        console.log(e.name + ' ' + e.message);\n",
    "    }\n",
    "}\n",
    "</pre>"
   ]
  },
  {
   "cell_type": "code",
   "execution_count": null,
   "metadata": {},
   "outputs": [],
   "source": [
    "// catching a TypeError\n",
    "try {\n",
    "    null.method();\n",
    "} catch (e) {\n",
    "    if (e instanceof TypeError) {\n",
    "        console.log(e.name);\n",
    "    }\n",
    "    console.log('messae:', e.message);\n",
    "    console.log('stack:', e.stack);\n",
    "}"
   ]
  },
  {
   "cell_type": "code",
   "execution_count": null,
   "metadata": {},
   "outputs": [],
   "source": [
    "var fs = require('fs');\n",
    "var data = fs.readFileSync('somefile.txt');"
   ]
  },
  {
   "cell_type": "code",
   "execution_count": null,
   "metadata": {},
   "outputs": [],
   "source": [
    "try {\n",
    "    var fs = require('fs');\n",
    "    var data = fs.readFileSync('somefile.txt');\n",
    "} catch (e) {\n",
    "    console.log(e.name);\n",
    "    console.log(e.message);\n",
    "}"
   ]
  },
  {
   "cell_type": "markdown",
   "metadata": {},
   "source": [
    "## creating and throwing error"
   ]
  },
  {
   "cell_type": "code",
   "execution_count": null,
   "metadata": {},
   "outputs": [],
   "source": [
    "var DivByZeroError = Error('Divisor can not be zero!');"
   ]
  },
  {
   "cell_type": "code",
   "execution_count": null,
   "metadata": {},
   "outputs": [],
   "source": [
    "var dividend = 100\n",
    "var divisor = 0\n",
    "try {\n",
    "    if (divisor == 0)\n",
    "        throw DivByZeroError;\n",
    "    console.log(`qoutient = ${dividend/divisor}`);\n",
    "} catch (e) {\n",
    "    console.log(e.name + \":\" + e.message);\n",
    "}"
   ]
  },
  {
   "cell_type": "code",
   "execution_count": null,
   "metadata": {},
   "outputs": [],
   "source": []
  }
 ],
 "metadata": {
  "kernelspec": {
   "display_name": "Javascript (Node.js)",
   "language": "javascript",
   "name": "javascript"
  },
  "language_info": {
   "file_extension": ".js",
   "mimetype": "application/javascript",
   "name": "javascript",
   "version": "10.10.0"
  }
 },
 "nbformat": 4,
 "nbformat_minor": 2
}
