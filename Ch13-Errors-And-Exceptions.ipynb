{
 "cells": [
  {
   "cell_type": "markdown",
   "metadata": {},
   "source": [
    "# Errors\n",
    "- dealing with bugs is normal part of programming\n",
    "- debugging is a very handy programming skill\n",
    "\n",
    "## category of errors/bugs\n",
    "- syntax errors\n",
    "- logical/semantic errros\n",
    "- runtime errors/exceptions"
   ]
  },
  {
   "cell_type": "markdown",
   "metadata": {},
   "source": [
    "## execeptions\n",
    "- https://developer.mozilla.org/en-US/docs/Web/JavaScript/Reference/Global_Objects/Error\n",
    "- applications running in Node.js will generally experience four categories of runtime-errors or exceptions\n",
    "- standard JavaScript errors such as EvalError, SyntaxError, RangeError, ReferenceError, TypeError, and URIError.\n",
    "- System errors triggered by underlying operating system constraints such as attempting to open a file that does not exist or attempting to send data over a closed socket.\n",
    "- User-specified errors triggered by application code.\n",
    "- AssertionErrors are a special class of error that can be triggered when Node.js detects an exceptional logic violation that should never occur. These are raised typically by the assert module.\n",
    "- All JavaScript and System errors raised by Node.js inherit from, or are instances of, the standard JavaScript <Error> class and are guaranteed to provide at least the properties available on that class."
   ]
  },
  {
   "cell_type": "code",
   "execution_count": 2,
   "metadata": {},
   "outputs": [
    {
     "ename": "ReferenceError",
     "evalue": "x is not defined",
     "output_type": "error",
     "traceback": [
      "evalmachine.<anonymous>:1",
      "console.log(x)",
      "            ^",
      "",
      "ReferenceError: x is not defined",
      "    at evalmachine.<anonymous>:1:13",
      "    at Script.runInThisContext (vm.js:96:20)",
      "    at Object.runInThisContext (vm.js:303:38)",
      "    at run ([eval]:1002:15)",
      "    at onRunRequest ([eval]:829:18)",
      "    at onMessage ([eval]:789:13)",
      "    at process.emit (events.js:182:13)",
      "    at emit (internal/child_process.js:812:12)",
      "    at process._tickCallback (internal/process/next_tick.js:63:19)"
     ]
    }
   ],
   "source": [
    "console.log(x)"
   ]
  },
  {
   "cell_type": "code",
   "execution_count": 26,
   "metadata": {},
   "outputs": [
    {
     "ename": "SyntaxError",
     "evalue": "Unexpected token {",
     "output_type": "error",
     "traceback": [
      "evalmachine.<anonymous>:1",
      "console.log{}",
      "           ^",
      "",
      "SyntaxError: Unexpected token {",
      "    at new Script (vm.js:79:7)",
      "    at createScript (vm.js:251:10)",
      "    at Object.runInThisContext (vm.js:303:10)",
      "    at run ([eval]:1002:15)",
      "    at onRunRequest ([eval]:829:18)",
      "    at onMessage ([eval]:789:13)",
      "    at process.emit (events.js:182:13)",
      "    at emit (internal/child_process.js:812:12)",
      "    at process._tickCallback (internal/process/next_tick.js:63:19)"
     ]
    }
   ],
   "source": [
    "console.log{}"
   ]
  },
  {
   "cell_type": "code",
   "execution_count": 3,
   "metadata": {},
   "outputs": [
    {
     "ename": "Error",
     "evalue": "Cannot find module 'some-module'",
     "output_type": "error",
     "traceback": [
      "internal/modules/cjs/loader.js:583",
      "    throw err;",
      "    ^",
      "",
      "Error: Cannot find module 'some-module'",
      "    at Function.Module._resolveFilename (internal/modules/cjs/loader.js:581:15)",
      "    at Function.Module._load (internal/modules/cjs/loader.js:507:25)",
      "    at Module.require (internal/modules/cjs/loader.js:637:17)",
      "    at require (internal/modules/cjs/helpers.js:20:18)",
      "    at evalmachine.<anonymous>:1:16",
      "    at Script.runInThisContext (vm.js:96:20)",
      "    at Object.runInThisContext (vm.js:303:38)",
      "    at run ([eval]:1002:15)",
      "    at onRunRequest ([eval]:829:18)",
      "    at onMessage ([eval]:789:13)"
     ]
    }
   ],
   "source": [
    "const module = require('some-module');"
   ]
  },
  {
   "cell_type": "code",
   "execution_count": 5,
   "metadata": {},
   "outputs": [
    {
     "ename": "TypeError",
     "evalue": "Cannot read property 'property' of null",
     "output_type": "error",
     "traceback": [
      "evalmachine.<anonymous>:1",
      "null.property()",
      "     ^",
      "",
      "TypeError: Cannot read property 'property' of null",
      "    at evalmachine.<anonymous>:1:6",
      "    at Script.runInThisContext (vm.js:96:20)",
      "    at Object.runInThisContext (vm.js:303:38)",
      "    at run ([eval]:1002:15)",
      "    at onRunRequest ([eval]:829:18)",
      "    at onMessage ([eval]:789:13)",
      "    at process.emit (events.js:182:13)",
      "    at emit (internal/child_process.js:812:12)",
      "    at process._tickCallback (internal/process/next_tick.js:63:19)"
     ]
    }
   ],
   "source": [
    "null.property()"
   ]
  },
  {
   "cell_type": "markdown",
   "metadata": {},
   "source": [
    "## handling/catching exceptions\n",
    "- Syntax\n",
    "<pre>\n",
    "try {\n",
    "    // code that my potentially throw exception\n",
    "}\n",
    "catch (exception) {\n",
    "    // handle specific error\n",
    "    if (exception instance of EvalError) {\n",
    "        // handle it here\n",
    "    }\n",
    "    else if (exception instance of RangeError) {\n",
    "        // handle it here\n",
    "    }\n",
    "    // etc...\n",
    "    else\n",
    "    {\n",
    "        // handle it here\n",
    "        console.log(e.name + ' ' + e.message);\n",
    "    }\n",
    "}\n",
    "</pre>"
   ]
  },
  {
   "cell_type": "code",
   "execution_count": 20,
   "metadata": {},
   "outputs": [
    {
     "name": "stdout",
     "output_type": "stream",
     "text": [
      "TypeError\n",
      "messae: Cannot read property 'method' of null\n",
      "filename: undefined\n",
      "line number:  undefined\n",
      "stack: TypeError: Cannot read property 'method' of null\n",
      "    at evalmachine.<anonymous>:3:10\n",
      "    at Script.runInThisContext (vm.js:96:20)\n",
      "    at Object.runInThisContext (vm.js:303:38)\n",
      "    at run ([eval]:1002:15)\n",
      "    at onRunRequest ([eval]:829:18)\n",
      "    at onMessage ([eval]:789:13)\n",
      "    at process.emit (events.js:182:13)\n",
      "    at emit (internal/child_process.js:812:12)\n",
      "    at process._tickCallback (internal/process/next_tick.js:63:19)\n"
     ]
    },
    {
     "data": {
      "text/plain": [
       "undefined"
      ]
     },
     "execution_count": 20,
     "metadata": {},
     "output_type": "execute_result"
    }
   ],
   "source": [
    "// catching a TypeError\n",
    "try {\n",
    "    null.method();\n",
    "} catch (e) {\n",
    "    if (e instanceof TypeError) {\n",
    "        console.log(e.name);\n",
    "    }\n",
    "    console.log('messae:', e.message);\n",
    "    console.log('stack:', e.stack);\n",
    "}"
   ]
  },
  {
   "cell_type": "code",
   "execution_count": 21,
   "metadata": {},
   "outputs": [
    {
     "ename": "Error",
     "evalue": "ENOENT: no such file or directory, open 'somefile.txt'",
     "output_type": "error",
     "traceback": [
      "fs.js:115",
      "    throw err;",
      "    ^",
      "",
      "Error: ENOENT: no such file or directory, open 'somefile.txt'",
      "    at Object.openSync (fs.js:436:3)",
      "    at Object.readFileSync (fs.js:341:35)",
      "    at evalmachine.<anonymous>:3:15",
      "    at Script.runInThisContext (vm.js:96:20)",
      "    at Object.runInThisContext (vm.js:303:38)",
      "    at run ([eval]:1002:15)",
      "    at onRunRequest ([eval]:829:18)",
      "    at onMessage ([eval]:789:13)",
      "    at process.emit (events.js:182:13)",
      "    at emit (internal/child_process.js:812:12)"
     ]
    }
   ],
   "source": [
    "var fs = require('fs');\n",
    "var data = fs.readFileSync('somefile.txt');"
   ]
  },
  {
   "cell_type": "code",
   "execution_count": 23,
   "metadata": {},
   "outputs": [
    {
     "name": "stdout",
     "output_type": "stream",
     "text": [
      "Error\n",
      "ENOENT: no such file or directory, open 'somefile.txt'\n"
     ]
    },
    {
     "data": {
      "text/plain": [
       "undefined"
      ]
     },
     "execution_count": 23,
     "metadata": {},
     "output_type": "execute_result"
    }
   ],
   "source": [
    "try {\n",
    "    var fs = require('fs');\n",
    "    var data = fs.readFileSync('somefile.txt');\n",
    "} catch (e) {\n",
    "    console.log(e.name);\n",
    "    console.log(e.message);\n",
    "}"
   ]
  },
  {
   "cell_type": "markdown",
   "metadata": {},
   "source": [
    "## creating and throwing error"
   ]
  },
  {
   "cell_type": "code",
   "execution_count": 27,
   "metadata": {},
   "outputs": [
    {
     "ename": "Error",
     "evalue": "Cannot find module 'readline-sync'",
     "output_type": "error",
     "traceback": [
      "internal/modules/cjs/loader.js:583",
      "    throw err;",
      "    ^",
      "",
      "Error: Cannot find module 'readline-sync'",
      "    at Function.Module._resolveFilename (internal/modules/cjs/loader.js:581:15)",
      "    at Function.Module._load (internal/modules/cjs/loader.js:507:25)",
      "    at Module.require (internal/modules/cjs/loader.js:637:17)",
      "    at require (internal/modules/cjs/helpers.js:20:18)",
      "    at evalmachine.<anonymous>:1:18",
      "    at Script.runInThisContext (vm.js:96:20)",
      "    at Object.runInThisContext (vm.js:303:38)",
      "    at run ([eval]:1002:15)",
      "    at onRunRequest ([eval]:829:18)",
      "    at onMessage ([eval]:789:13)"
     ]
    }
   ],
   "source": [
    "const readline = require('readline-sync');\n",
    "const DivByZeroError = Error('Divisor can not be zero');\n",
    "var dividend = readline.question('Enter dividend:');\n",
    "var divisor = readline.question('Enter divisor:');\n",
    "try {\n",
    "    if (divisor == 0)\n",
    "        throw DivByZeroError;\n",
    "} catch (e) {\n",
    "    if (e instanceof DivByZeroError)\n",
    "        console.log(e.name + \":\" + e.message);\n",
    "}"
   ]
  },
  {
   "cell_type": "code",
   "execution_count": null,
   "metadata": {},
   "outputs": [],
   "source": []
  }
 ],
 "metadata": {
  "kernelspec": {
   "display_name": "Javascript (Node.js)",
   "language": "javascript",
   "name": "javascript"
  },
  "language_info": {
   "file_extension": ".js",
   "mimetype": "application/javascript",
   "name": "javascript",
   "version": "10.10.0"
  }
 },
 "nbformat": 4,
 "nbformat_minor": 2
}
