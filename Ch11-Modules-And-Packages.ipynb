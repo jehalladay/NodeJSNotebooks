{
 "cells": [
  {
   "cell_type": "markdown",
   "metadata": {},
   "source": [
    "# User defined modules and npm packages"
   ]
  },
  {
   "cell_type": "markdown",
   "metadata": {},
   "source": [
    "## modules - require/import\n",
    "- https://nodejs.org/api/modules.html\n",
    "- large projects typically require JS code to be written in multiple files or modules\n",
    "- user defined modules and packages are sometime used as library in other modules\n",
    "- syntax: const modName = require('./moduleName')\n",
    "- .js extension of the module is optional\n",
    "- if relative package or module name is used, Node will look for the module relative to the current module where the external module is required\n",
    "- without a leading '/', './', or '../' to indicate a file, the module must either be a core module or is loaded from a node_modules folder.\n",
    "- circular module dependencies need to be avoided or carefully done to work properly\n",
    "- modules are cached after the first time they're loaded\n",
    "- import keyword is not supported by Node as of version 10.12"
   ]
  },
  {
   "cell_type": "markdown",
   "metadata": {},
   "source": [
    "## modules - export\n",
    "- modules must export names: functions, class and primitive values to be able to use by other module using import\n",
    "- In exporting module use: module.exports = { name1, nam2, ... };\n",
    "- In importing module use: "
   ]
  },
  {
   "cell_type": "markdown",
   "metadata": {},
   "source": [
    "## see moduleDemo.js  for a quick demo\n",
    "- module is executed when it is required or loaded into another\n",
    "- use require.main === module guard to prevent unnecessary codes (such as tests) being executed if the module is expected to be used as library"
   ]
  },
  {
   "cell_type": "markdown",
   "metadata": {},
   "source": [
    "## third-party packages\n",
    "- find the rquired package in https://www.npmjs.com/\n",
    "- use nmp command in terminal to install the package\n",
    "- https://docs.npmjs.com/\n",
    "- npm i package-name"
   ]
  },
  {
   "cell_type": "markdown",
   "metadata": {},
   "source": [
    "## package.json\n",
    "- https://docs.npmjs.com/getting-started/using-a-package.json\n",
    "- create package.json file inside the root of the project to manage locally installed npm packages\n",
    "> npm init <br />\n",
    "> npm init -y\n",
    "- this will help you creat package.json file -y or --yes will use the information extracted from the currect directory\n",
    "- once package.json file is created, it'll be automatically updated when new package is installed using npm i command"
   ]
  },
  {
   "cell_type": "markdown",
   "metadata": {},
   "source": [
    "To installing missing or rquired packages for the project, just run the following command from inside the project folder\n",
    "> npm install\n",
    "\n",
    "- Demonstrate by deleting the existing package.json file and installing readline-sync module used in input.js script."
   ]
  },
  {
   "cell_type": "code",
   "execution_count": null,
   "metadata": {},
   "outputs": [],
   "source": []
  },
  {
   "cell_type": "code",
   "execution_count": null,
   "metadata": {},
   "outputs": [],
   "source": []
  }
 ],
 "metadata": {
  "kernelspec": {
   "display_name": "Javascript (Node.js)",
   "language": "javascript",
   "name": "javascript"
  },
  "language_info": {
   "file_extension": ".js",
   "mimetype": "application/javascript",
   "name": "javascript",
   "version": "10.13.0"
  }
 },
 "nbformat": 4,
 "nbformat_minor": 2
}
