{
 "cells": [
  {
   "cell_type": "markdown",
   "metadata": {},
   "source": [
    "# Regular Expression (RE)\n",
    "- https://developer.mozilla.org/en-US/docs/Web/JavaScript/Guide/Regular_Expressions\n",
    "- Regular expressions are patterns used to match character combinations in strings\n",
    "- in JS, REs are also objects\n",
    "- patterns once created are used with the exec and test methods of RegExp and with match, replace, search, and split methods of String\n",
    "    - `exec` - RegExp method - returns an array of matched values or null on a mismatch\n",
    "    - `test` - RegExp method - tests for a match in a string\n",
    "    - `match` - String method - executes a search for a match in a string - returns true or false\n",
    "    - `search` - String method - returns the index of the match or -1 if the search fails\n",
    "    - `replace` - String method - replaces the matched substring with the replacement substring\n",
    "    - `split` - String method - breaks a string into an array of substrings using regular expression as delimeter"
   ]
  },
  {
   "cell_type": "markdown",
   "metadata": {},
   "source": [
    "### creating a regular expression\n",
    " - one of the two ways, reg exp literal and function:\n",
    "     - /regexp/\n",
    "     - new RegExp('RegExp');"
   ]
  },
  {
   "cell_type": "code",
   "execution_count": 1,
   "metadata": {},
   "outputs": [
    {
     "data": {
      "text/plain": [
       "undefined"
      ]
     },
     "execution_count": 1,
     "metadata": {},
     "output_type": "execute_result"
    }
   ],
   "source": [
    "var re = /ab+c/;"
   ]
  },
  {
   "cell_type": "code",
   "execution_count": 2,
   "metadata": {},
   "outputs": [
    {
     "data": {
      "text/plain": [
       "undefined"
      ]
     },
     "execution_count": 2,
     "metadata": {},
     "output_type": "execute_result"
    }
   ],
   "source": [
    "var re1 = new RegExp('ab+c');"
   ]
  },
  {
   "cell_type": "code",
   "execution_count": 3,
   "metadata": {},
   "outputs": [
    {
     "name": "stdout",
     "output_type": "stream",
     "text": [
      "19\n",
      "19\n"
     ]
    },
    {
     "data": {
      "text/plain": [
       "undefined"
      ]
     },
     "execution_count": 3,
     "metadata": {},
     "output_type": "execute_result"
    }
   ],
   "source": [
    "var str = \"I know how to read abc...z\";\n",
    "console.log(str.search(re));\n",
    "console.log(str.search(re1));"
   ]
  },
  {
   "cell_type": "markdown",
   "metadata": {},
   "source": [
    "## special characters in RegExp\n",
    "- `\\` - escape the special meaning of the next chracter and match it as a literal\n",
    "\n",
    "- `^` - matches beginning of input - e.g, /^A/ doesn't match 'A' in \"an Apple\" but matched 'A' in \"An apple\"\n",
    "\n",
    "- `$` - matches end of input - e.g, /t$/ doesn't match 't' in \"eater\", but match it in \"eat\"\n",
    "\n",
    "- `*` - matches the preceding expression 0 or more times - e.g., /bo*/ matches 'boooo' in \"A ghost booooed\"\n",
    "- `+` - matches the preceding expression 1 or more times - /a+/ matches the 'a' in \"candy\" and all the a's in \"caaaaaaandy\", but nothing in \"cndy\" \n",
    "- `?` - matches the preceding expression 0 or 1 time\n",
    "- `.` - matches any single character except the newline character\n",
    "- `\\d` - matches a digit character. Equivalent to [0-9]\n",
    "- `\\w` - matches any alphanumeric character including underscore. Equivalent to [A-Za-z0-9_]\n",
    "- `\\W` - matches any non-word character\n",
    "- `\\s` - matches a white space character, including space, tab, form feed, line feed \\n, etc.\n",
    "- `{n}` - matches exactly n occurances of the preceding expression. n must be a positive integer\n",
    "- `{n,}` - matches at least n occurances of the preceding expression\n",
    "- `{n, m}` - matches at least n and at most m occurences of the preceding expression (where n <= m )\n",
    "- `[abc]` - character set - the patter type matches any one of the character in the brackets. Special characters (espcae sequence are not speical inside [] so they don't need to be escaped.\n",
    "- `x|y` - matches 'x', or 'y' (if there's no match for 'x'). e.g., /green|red/ matches 'green' in \"green apples\" and 'red' in \"red apples\""
   ]
  },
  {
   "cell_type": "code",
   "execution_count": 4,
   "metadata": {},
   "outputs": [
    {
     "name": "stdout",
     "output_type": "stream",
     "text": [
      "Smith, John\n"
     ]
    },
    {
     "data": {
      "text/plain": [
       "undefined"
      ]
     },
     "execution_count": 4,
     "metadata": {},
     "output_type": "execute_result"
    }
   ],
   "source": [
    "var re = /(\\w+)\\s(\\w+)/;\n",
    "var str = 'John Smith';\n",
    "var newstr = str.replace(re, '$2, $1');\n",
    "console.log(newstr);"
   ]
  },
  {
   "cell_type": "markdown",
   "metadata": {},
   "source": [
    "## advanced searching with flags\n",
    "- /pattern/flags;\n",
    "- new RegExp('pattern', 'flags');\n",
    "- Flags:\n",
    "    - g - global search\n",
    "    - i - case-insensitive search\n",
    "    - m - multi-line search\n",
    "    - u - unicode; treat a pattern as a sequence of unicode points\n",
    "    - y - perform a \"sticky\" search that matches starting at the current position in the target string"
   ]
  },
  {
   "cell_type": "code",
   "execution_count": 5,
   "metadata": {},
   "outputs": [
    {
     "name": "stdout",
     "output_type": "stream",
     "text": [
      "[ 'fee ', 'fi ', 'fo ' ]\n"
     ]
    },
    {
     "data": {
      "text/plain": [
       "undefined"
      ]
     },
     "execution_count": 5,
     "metadata": {},
     "output_type": "execute_result"
    }
   ],
   "source": [
    "var re = /\\w+\\s/g; // match one or more characters followed by a space\n",
    "// var re = new RegExp('\\\\w+\\\\s', 'g');\n",
    "var str = 'fee fi fo fum';\n",
    "var myArray = str.match(re);\n",
    "console.log(myArray);\n"
   ]
  },
  {
   "cell_type": "markdown",
   "metadata": {},
   "source": [
    "### exercise: write a function that validates a phone number"
   ]
  },
  {
   "cell_type": "code",
   "execution_count": 6,
   "metadata": {},
   "outputs": [
    {
     "data": {
      "text/plain": [
       "undefined"
      ]
     },
     "execution_count": 6,
     "metadata": {},
     "output_type": "execute_result"
    }
   ],
   "source": [
    "function testPhone(phoneInput) {  \n",
    "    // add ^ and $ to match exactly! otherwise will find phone pattern inside text\n",
    "    var re = /(?:\\d{3}|\\(\\d{3}\\))([-\\/\\.])\\d{3}\\1\\d{4}/;\n",
    "    var OK = re.exec(phoneInput);  \n",
    "    if (!OK)  \n",
    "        console.log(phoneInput + ' isn\\'t a phone number with area code!');  \n",
    "    else\n",
    "        console.log('Thanks, your phone number is ' + OK[0]);  \n",
    "}  "
   ]
  },
  {
   "cell_type": "code",
   "execution_count": 7,
   "metadata": {},
   "outputs": [
    {
     "name": "stdout",
     "output_type": "stream",
     "text": [
      "Thanks, your phone number is 123-456-7890\n"
     ]
    },
    {
     "data": {
      "text/plain": [
       "undefined"
      ]
     },
     "execution_count": 7,
     "metadata": {},
     "output_type": "execute_result"
    }
   ],
   "source": [
    "testPhone('123-456-7890')"
   ]
  },
  {
   "cell_type": "code",
   "execution_count": 8,
   "metadata": {},
   "outputs": [
    {
     "name": "stdout",
     "output_type": "stream",
     "text": [
      "Thanks, your phone number is (123)-456-7890\n"
     ]
    },
    {
     "data": {
      "text/plain": [
       "undefined"
      ]
     },
     "execution_count": 8,
     "metadata": {},
     "output_type": "execute_result"
    }
   ],
   "source": [
    "testPhone('(123)-456-7890')"
   ]
  },
  {
   "cell_type": "code",
   "execution_count": 9,
   "metadata": {},
   "outputs": [
    {
     "name": "stdout",
     "output_type": "stream",
     "text": [
      "Thanks, your phone number is 123.456.4567\n"
     ]
    },
    {
     "data": {
      "text/plain": [
       "undefined"
      ]
     },
     "execution_count": 9,
     "metadata": {},
     "output_type": "execute_result"
    }
   ],
   "source": [
    "testPhone('123.456.4567')"
   ]
  },
  {
   "cell_type": "code",
   "execution_count": 10,
   "metadata": {},
   "outputs": [
    {
     "name": "stdout",
     "output_type": "stream",
     "text": [
      "Thanks, your phone number is 333-444-4443\n"
     ]
    },
    {
     "data": {
      "text/plain": [
       "undefined"
      ]
     },
     "execution_count": 10,
     "metadata": {},
     "output_type": "execute_result"
    }
   ],
   "source": [
    "testPhone('3333-444-444344')"
   ]
  },
  {
   "cell_type": "code",
   "execution_count": null,
   "metadata": {},
   "outputs": [],
   "source": []
  }
 ],
 "metadata": {
  "kernelspec": {
   "display_name": "Javascript (Node.js)",
   "language": "javascript",
   "name": "javascript"
  },
  "language_info": {
   "file_extension": ".js",
   "mimetype": "application/javascript",
   "name": "javascript",
   "version": "10.10.0"
  }
 },
 "nbformat": 4,
 "nbformat_minor": 2
}
