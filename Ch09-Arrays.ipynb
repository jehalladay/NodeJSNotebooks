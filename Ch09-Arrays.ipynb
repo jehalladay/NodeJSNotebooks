{
 "cells": [
  {
   "cell_type": "markdown",
   "metadata": {},
   "source": [
    "# Arrays\n",
    "- arrays are used to store multiple values in a single variable\n",
    "- makes it easy to keep track of several relevant data and access them easily with out having to manage large number of individual variables\n",
    "- syntax:\n",
    "\n",
    "    var arrayName = [ item1, item2, item3, ...];\n",
    "    \n",
    "- declaration can span multiple lines\n",
    "- array elements have numbered indicies that start from 0"
   ]
  },
  {
   "cell_type": "code",
   "execution_count": 11,
   "metadata": {},
   "outputs": [
    {
     "name": "stdout",
     "output_type": "stream",
     "text": [
      "object\n"
     ]
    },
    {
     "data": {
      "text/plain": [
       "undefined"
      ]
     },
     "execution_count": 11,
     "metadata": {},
     "output_type": "execute_result"
    }
   ],
   "source": [
    "var cars = [\"Tesla\", \"BMW\", \"Volvo\", \"Mercedez\"];\n",
    "console.log(typeof cars)"
   ]
  },
  {
   "cell_type": "code",
   "execution_count": null,
   "metadata": {},
   "outputs": [],
   "source": [
    "var fruits = ['banana',\n",
    "             'apple',\n",
    "             'fruit',\n",
    "             'mango'];"
   ]
  },
  {
   "cell_type": "code",
   "execution_count": null,
   "metadata": {},
   "outputs": [],
   "source": [
    "console.log(cars);\n",
    "console.log(fruits);\n",
    "console.log(typeof(cars));\n",
    "console.log(typeof(fruits))"
   ]
  },
  {
   "cell_type": "code",
   "execution_count": null,
   "metadata": {},
   "outputs": [],
   "source": [
    "console.log(Array.isArray(cars));\n",
    "console.log(Array.isArray(fruits));"
   ]
  },
  {
   "cell_type": "markdown",
   "metadata": {},
   "source": [
    "## Accessing and modifiying elements / items of array"
   ]
  },
  {
   "cell_type": "code",
   "execution_count": null,
   "metadata": {},
   "outputs": [],
   "source": [
    "console.log(cars[1]);\n",
    "console.log(fruits[3]);"
   ]
  },
  {
   "cell_type": "code",
   "execution_count": null,
   "metadata": {},
   "outputs": [],
   "source": [
    "cars[0] = 'Toyota';\n",
    "fruits[1] = 'Kiwi';\n",
    "console.log(cars);\n",
    "console.log(fruits);"
   ]
  },
  {
   "cell_type": "markdown",
   "metadata": {},
   "source": [
    "## Array properties and methods\n",
    "- complete list of properties and methods can be found here:\n",
    "https://developer.mozilla.org/en-US/docs/Web/JavaScript/Reference/Global_Objects/Array"
   ]
  },
  {
   "cell_type": "code",
   "execution_count": null,
   "metadata": {},
   "outputs": [],
   "source": [
    "console.log(cars.length)\n",
    "var fCount = fruits.length\n",
    "console.log(fCount);"
   ]
  },
  {
   "cell_type": "code",
   "execution_count": null,
   "metadata": {},
   "outputs": [],
   "source": [
    "console.log(cars.length-1);\n",
    "console.log(fruits.length-1)"
   ]
  },
  {
   "cell_type": "markdown",
   "metadata": {},
   "source": [
    "### adding and deleteting elements\n",
    "- push(element) -  add or push new element to array\n",
    "- pop() - delete the last element from an array\n",
    "- shift() - popping from begining instead from the last; returns the deleted first element\n",
    "- unshift(x) - adds a new element at the beginning and unshifts older elements"
   ]
  },
  {
   "cell_type": "code",
   "execution_count": null,
   "metadata": {},
   "outputs": [],
   "source": [
    "cars.push('Nissan');\n",
    "cars.push('Honda');\n",
    "console.log(cars);"
   ]
  },
  {
   "cell_type": "code",
   "execution_count": null,
   "metadata": {},
   "outputs": [],
   "source": [
    "cars.pop()\n",
    "console.log(cars)"
   ]
  },
  {
   "cell_type": "code",
   "execution_count": null,
   "metadata": {},
   "outputs": [],
   "source": [
    "var car = cars.shift()\n",
    "console.log(cars)\n",
    "console.log('deleted item: ', car)"
   ]
  },
  {
   "cell_type": "code",
   "execution_count": null,
   "metadata": {},
   "outputs": [],
   "source": [
    "cars.unshift(\"Bugatti\")\n",
    "console.log(cars)"
   ]
  },
  {
   "cell_type": "markdown",
   "metadata": {},
   "source": [
    "### converting arrays to strings\n",
    "- toString() - converts an array to a string of (comma separated) array values and returns a new string\n",
    "- join(delimeter) - joins all array elements into a string using delimeter provided"
   ]
  },
  {
   "cell_type": "code",
   "execution_count": null,
   "metadata": {},
   "outputs": [],
   "source": [
    "var carStr = cars.toString();\n",
    "console.log(carStr);\n",
    "console.log(cars);"
   ]
  },
  {
   "cell_type": "code",
   "execution_count": null,
   "metadata": {},
   "outputs": [],
   "source": [
    "console.log(cars.join(', '))"
   ]
  },
  {
   "cell_type": "code",
   "execution_count": null,
   "metadata": {},
   "outputs": [],
   "source": [
    "console.log(cars.join(' $$ '))"
   ]
  },
  {
   "cell_type": "markdown",
   "metadata": {},
   "source": [
    "### concatenating / merging arrays\n",
    "- concat() - concatenates two arrays and returns a larger array"
   ]
  },
  {
   "cell_type": "code",
   "execution_count": null,
   "metadata": {},
   "outputs": [],
   "source": [
    "var arr1 = [\"Cecilie\", \"Lone\"];\n",
    "var arr2 = [\"Emil\", \"Tobias\", \"Linus\"];\n",
    "var arr3 = arr1 + arr2 // merges as string"
   ]
  },
  {
   "cell_type": "code",
   "execution_count": null,
   "metadata": {},
   "outputs": [],
   "source": [
    "console.log(arr1)\n",
    "console.log(arr3)"
   ]
  },
  {
   "cell_type": "code",
   "execution_count": null,
   "metadata": {},
   "outputs": [],
   "source": [
    "var arr4 = arr1.concat(arr2);\n",
    "console.log(arr4);"
   ]
  },
  {
   "cell_type": "markdown",
   "metadata": {},
   "source": [
    "### slicing arrays\n",
    "- slice(start, end) - star index inclusive and end index exclusive; returns new sliced array"
   ]
  },
  {
   "cell_type": "code",
   "execution_count": null,
   "metadata": {},
   "outputs": [],
   "source": [
    "console.log(arr4.slice(1, 3));\n",
    "console.log(arr4.slice(2));"
   ]
  },
  {
   "cell_type": "markdown",
   "metadata": {},
   "source": [
    "### sorting and reversing arrays\n",
    "- sort() - stable sort\n",
    "    - by default, sort() function sorts values as strings\n",
    "    - words well for strings (\"Apple\" comes before \"Banana\")\n",
    "- reverse() - reverse the elements in an array"
   ]
  },
  {
   "cell_type": "code",
   "execution_count": null,
   "metadata": {},
   "outputs": [],
   "source": [
    "arr4.sort();\n",
    "console.log(arr4);"
   ]
  },
  {
   "cell_type": "code",
   "execution_count": null,
   "metadata": {},
   "outputs": [],
   "source": [
    "arr4.reverse();\n",
    "console.log(arr4);"
   ]
  },
  {
   "cell_type": "code",
   "execution_count": null,
   "metadata": {},
   "outputs": [],
   "source": [
    "// sorting numbers requires some work... as it doesn't work by default\n",
    "var points = [40, 100, 1, 5, 25, 10];\n",
    "points.sort();\n",
    "console.log(points);"
   ]
  },
  {
   "cell_type": "markdown",
   "metadata": {},
   "source": [
    "### sorting numbers using compare function\n",
    "- use anynymous/lambda or fat arrow function as compare function to tell how the sorting should work\n",
    "- ompare function uses: negative, zero, or positive returned value to determine the sort order\n",
    "- Example: \n",
    "    - when comparing 40 and 100, 40-100 returns -60 (negative value) \n",
    "        - the function will sort 40 as a value lower than 100; no swapping required\n",
    "    - when comparing 50 and 30, 50-30 returns 20 (positive value)\n",
    "        - the function will sort 50 as a value higher than 20 so will swap them "
   ]
  },
  {
   "cell_type": "code",
   "execution_count": null,
   "metadata": {},
   "outputs": [],
   "source": [
    "points.sort((a, b) => a - b); // or do the following\n",
    "// points.sort(function(a, b) {return a-b});\n",
    "console.log(points);"
   ]
  },
  {
   "cell_type": "code",
   "execution_count": null,
   "metadata": {},
   "outputs": [],
   "source": [
    "// can use the same trick to reverse sort\n",
    "points.sort((a, b) => b - a);\n",
    "console.log(points)"
   ]
  },
  {
   "cell_type": "markdown",
   "metadata": {},
   "source": [
    "## passing array to function\n",
    "- visualize an example in pythontutor.com\n",
    "- https://goo.gl/7dYHtA\n",
    "- arrays, associative arrays and user-defined objects are passed-by-reference"
   ]
  },
  {
   "cell_type": "markdown",
   "metadata": {},
   "source": [
    "## traversing arrays\n",
    "- go through each element in the array"
   ]
  },
  {
   "cell_type": "code",
   "execution_count": 1,
   "metadata": {},
   "outputs": [
    {
     "name": "stdout",
     "output_type": "stream",
     "text": [
      "0 => Tesla\n",
      "1 => BMW\n",
      "2 => Volvo\n",
      "3 => Mercedez\n"
     ]
    },
    {
     "data": {
      "text/plain": [
       "undefined"
      ]
     },
     "execution_count": 1,
     "metadata": {},
     "output_type": "execute_result"
    }
   ],
   "source": [
    "var cars = [\"Tesla\", \"BMW\", \"Volvo\", \"Mercedez\"];\n",
    "for (var i in cars) {\n",
    "    console.log(i, \"=>\", cars[i]);\n",
    "}"
   ]
  },
  {
   "cell_type": "markdown",
   "metadata": {},
   "source": [
    "## in operator to test for key or index"
   ]
  },
  {
   "cell_type": "code",
   "execution_count": 15,
   "metadata": {},
   "outputs": [
    {
     "name": "stdout",
     "output_type": "stream",
     "text": [
      "0 index in cars!\n"
     ]
    },
    {
     "data": {
      "text/plain": [
       "undefined"
      ]
     },
     "execution_count": 15,
     "metadata": {},
     "output_type": "execute_result"
    }
   ],
   "source": [
    "if (0 in cars)\n",
    "    console.log('0 index in cars!')"
   ]
  },
  {
   "cell_type": "code",
   "execution_count": null,
   "metadata": {},
   "outputs": [],
   "source": []
  }
 ],
 "metadata": {
  "kernelspec": {
   "display_name": "Javascript (Node.js)",
   "language": "javascript",
   "name": "javascript"
  },
  "language_info": {
   "file_extension": ".js",
   "mimetype": "application/javascript",
   "name": "javascript",
   "version": "10.10.0"
  }
 },
 "nbformat": 4,
 "nbformat_minor": 2
}
