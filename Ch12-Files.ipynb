{
 "cells": [
  {
   "cell_type": "markdown",
   "metadata": {},
   "source": [
    "# Files\n",
    "- data is usually stored in secondary storage medium such as hard drive, flash drive, cd-rw, etc. using named locations called files\n",
    "- files can be organized into folders\n",
    "- Node.js file system allows you to work with the file system (files and folders) on your computer; while JS code on browser can't access files\n",
    "- to include the File System module, use the rquire('fs') \n",
    "- complete documentation on File System: https://nodejs.org/api/fs.html"
   ]
  },
  {
   "cell_type": "code",
   "execution_count": null,
   "metadata": {},
   "outputs": [],
   "source": [
    "var fs = require('fs');"
   ]
  },
  {
   "cell_type": "markdown",
   "metadata": {},
   "source": [
    "## Common use for the File System module:\n",
    "- Read existing files\n",
    "- Create files\n",
    "- Update files\n",
    "- Delete files\n",
    "- Rename files"
   ]
  },
  {
   "cell_type": "markdown",
   "metadata": {},
   "source": [
    "## Synchronous vs Asynchronous\n",
    "- every method in the fs module has synchronous as well as synchronous ways of working with files\n",
    "- it's recommended to use an asynchronous method instead of synchronous, as the former never blocks a program during its execution, while the latter does"
   ]
  },
  {
   "cell_type": "markdown",
   "metadata": {},
   "source": [
    "## Read data\n",
    "```javascript\n",
    "fs.readFile(path, callback);\n",
    "fs.readFileSync(path) => data\n",
    "```"
   ]
  },
  {
   "cell_type": "code",
   "execution_count": null,
   "metadata": {},
   "outputs": [],
   "source": [
    "var fileName = './JSDemo/input.txt';"
   ]
  },
  {
   "cell_type": "code",
   "execution_count": null,
   "metadata": {},
   "outputs": [],
   "source": [
    "// asynchronous method\n",
    "var data;\n",
    "fs.readFile(fileName, (err, data) => {\n",
    "    if (err) {\n",
    "        throw err;\n",
    "    }   \n",
    "    console.log(data);\n",
    "    console.log(data.toString());\n",
    "});"
   ]
  },
  {
   "cell_type": "code",
   "execution_count": null,
   "metadata": {},
   "outputs": [],
   "source": [
    "// Synchronous read\n",
    "var data = fs.readFileSync(fileName);"
   ]
  },
  {
   "cell_type": "code",
   "execution_count": null,
   "metadata": {},
   "outputs": [],
   "source": [
    "console.log(data.toString());"
   ]
  },
  {
   "cell_type": "markdown",
   "metadata": {},
   "source": [
    "## readline - read line by line"
   ]
  },
  {
   "cell_type": "code",
   "execution_count": null,
   "metadata": {},
   "outputs": [],
   "source": [
    "var readline = require('readline');\n",
    "var rl = readline.createInterface({\n",
    "    input: fs.createReadStream(fileName),\n",
    "    output: process.stdout,\n",
    "});\n",
    "\n",
    "var lineNum = 1;\n",
    "rl.on('line', (line)=> {\n",
    "    console.log(`Line ${lineNum}: ${line}`);\n",
    "    lineNum ++;\n",
    "});\n"
   ]
  },
  {
   "cell_type": "markdown",
   "metadata": {},
   "source": [
    "## write to file\n",
    "- fs.writeFile(path, data, callback);\n",
    "- replaces the specified file and content if it exists\n",
    "- if the file doesn't exist, a new file is created with the given content"
   ]
  },
  {
   "cell_type": "code",
   "execution_count": null,
   "metadata": {},
   "outputs": [],
   "source": [
    "var fs = require('fs');\n",
    "fs.writeFile('output.txt', 'Some content added to the file...', (err) => {\n",
    "   if (err) {\n",
    "       throw err;\n",
    "   } \n",
    "    console.log('File created!');\n",
    "});"
   ]
  },
  {
   "cell_type": "markdown",
   "metadata": {},
   "source": [
    "## append or update files\n",
    "- fs.appendFile(path, data, callback)\n",
    "- appends the specified content at the end of the specified file"
   ]
  },
  {
   "cell_type": "code",
   "execution_count": null,
   "metadata": {},
   "outputs": [],
   "source": [
    "var fs = require('fs');\n",
    "fs.appendFile('output.txt', '\\nNext line appended at the end!', (err) => {\n",
    "    if (err) throw err;\n",
    "    console.log('Updated!');\n",
    "});"
   ]
  },
  {
   "cell_type": "markdown",
   "metadata": {},
   "source": [
    "## exercise: write a program to copy the content of a file to another file"
   ]
  },
  {
   "cell_type": "markdown",
   "metadata": {},
   "source": [
    "## rename a file\n",
    "- fs.rename(existingFile, newFile, callback);\n",
    "- rename existingFile with newFile\n",
    "- if the file doesn't exist, throws error: no such file or directory"
   ]
  },
  {
   "cell_type": "code",
   "execution_count": null,
   "metadata": {},
   "outputs": [],
   "source": [
    "var fs = require('fs');\n",
    "fs.rename('output.txt', 'output1.txt', (err) => {\n",
    "    if (err) throw err;\n",
    "    console.log('File renamed!');\n",
    "})"
   ]
  },
  {
   "cell_type": "markdown",
   "metadata": {},
   "source": [
    "# delete a file\n",
    "- fs.unlink(path, callback)\n",
    "- deletes the specified file\n",
    "- if file doesn't exist, error is thrown"
   ]
  },
  {
   "cell_type": "code",
   "execution_count": null,
   "metadata": {},
   "outputs": [],
   "source": [
    "var fs = require('fs');\n",
    "var fileName = 'output1.txt'\n",
    "fs.unlink(fileName, (err) => {\n",
    "    if (err) throw err;\n",
    "    console.log(`${fileName} file deleted!`)\n",
    "});"
   ]
  },
  {
   "cell_type": "markdown",
   "metadata": {},
   "source": [
    "## exercises\n",
    "1. Write a program that reads a file and writes out a new file with the lines in reversed order (i.e. the first line in the old file becomes the last one in the new file.)\n",
    "2. Write a program that reads a file and prints only those lines that contain the substring snake.\n",
    "3. Write a program that reads a text file and produces an output file which is a copy of the file, except the first five columns of each line contain a four digit line number, followed by a space. Start numbering the first line in the output file at 1. Ensure that every line number is formatted to the same width in the output file. Use one of your Node.js programs as test data for this exercise: your output should be a printed and numbered listing of the Node.js program.\n",
    "4. Write a program that undoes the numbering of the previous exercise: it should read a file with numbered lines and produce another file without line numbers."
   ]
  },
  {
   "cell_type": "code",
   "execution_count": null,
   "metadata": {},
   "outputs": [],
   "source": []
  }
 ],
 "metadata": {
  "kernelspec": {
   "display_name": "Javascript (Node.js)",
   "language": "javascript",
   "name": "javascript"
  },
  "language_info": {
   "file_extension": ".js",
   "mimetype": "application/javascript",
   "name": "javascript",
   "version": "11.14.0"
  }
 },
 "nbformat": 4,
 "nbformat_minor": 2
}
