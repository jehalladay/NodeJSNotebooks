{
 "cells": [
  {
   "cell_type": "markdown",
   "metadata": {},
   "source": [
    "# Node.js\n",
    "- free and open source server environment for JavaScript programming language\n",
    "- platform independent (Windows, Linux, Unix, Mac OS X, etc.)"
   ]
  },
  {
   "cell_type": "markdown",
   "metadata": {},
   "source": [
    "## Features and benefits of Node.js\n",
    "- uses asynchronous (non-blocking) programming model\n",
    "- eliminates the waiting on events or completetion of certain functions or tasks\n",
    "- simply continues with the next request\n",
    "- single threaded by highly scalable (providing services to a large number of clients simultanesously) and fast (built on Google Chrome's V8 JS Engine)\n",
    "- Node.js applications never buffer any data, but simply output the data in chunks"
   ]
  },
  {
   "cell_type": "markdown",
   "metadata": {},
   "source": [
    "## common applications\n",
    "- used by large companies such as Microsoft, Google, GE, GoDaddy, Uber, Yahoo!, eBay, PayPal, etc.\n",
    "- I/O bound applications\n",
    "- Data Streaming applications\n",
    "- JSON APIs based applications\n",
    "- Single Page applications\n",
    "- Data intensive real-time applications (DIRT)"
   ]
  },
  {
   "cell_type": "code",
   "execution_count": null,
   "metadata": {},
   "outputs": [],
   "source": []
  }
 ],
 "metadata": {
  "kernelspec": {
   "display_name": "Javascript (Node.js)",
   "language": "javascript",
   "name": "javascript"
  },
  "language_info": {
   "file_extension": ".js",
   "mimetype": "application/javascript",
   "name": "javascript",
   "version": "10.10.0"
  }
 },
 "nbformat": 4,
 "nbformat_minor": 2
}
