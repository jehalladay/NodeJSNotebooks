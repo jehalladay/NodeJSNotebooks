{
 "cells": [
  {
   "cell_type": "markdown",
   "metadata": {},
   "source": [
    "# Numbers & Math\n",
    "- JS has only one type of number\n",
    "- Numbers can be written with or without decimals\n",
    "- extra large or extra small numbers can be written using scientific notations\n",
    "- JS numbers are 64-bit (8 byte) floating point or double precision floating point\n",
    "- integers are accurate up to 15 digits\n",
    "- floating point arithmetic is not always 100% accurate"
   ]
  },
  {
   "cell_type": "markdown",
   "metadata": {},
   "source": [
    "## operators and operations\n",
    "- +, -, &ast;, /, %, &ast;&ast;, ++, -- (pre and post increment and decrement)\n",
    "- \\+ when used with strings concatenates them together"
   ]
  },
  {
   "cell_type": "code",
   "execution_count": null,
   "metadata": {},
   "outputs": [],
   "source": [
    "var x = 123e5;\n",
    "var y = 123e-10;\n",
    "console.log(x, y);"
   ]
  },
  {
   "cell_type": "code",
   "execution_count": null,
   "metadata": {},
   "outputs": [],
   "source": [
    "var x = 999999999999999;   // x will be 999999999999999\n",
    "var y = 9999999999999999;  // y will be 10000000000000000\n",
    "console.log(x, y);"
   ]
  },
  {
   "cell_type": "code",
   "execution_count": null,
   "metadata": {},
   "outputs": [],
   "source": [
    "console.log(0.1 + 0.4);\n",
    "console.log(0.1 + 0.2); // floating point arithment is not always 100% correct "
   ]
  },
  {
   "cell_type": "code",
   "execution_count": null,
   "metadata": {},
   "outputs": [],
   "source": [
    "// to solve the above error; it helps to multiply and divide\n",
    "var x = (0.2 * 10 + 0.1 * 10) / 10;\n",
    "console.log(x);"
   ]
  },
  {
   "cell_type": "code",
   "execution_count": null,
   "metadata": {},
   "outputs": [],
   "source": [
    "var num1 = 10;\n",
    "var num2 = 15;"
   ]
  },
  {
   "cell_type": "code",
   "execution_count": null,
   "metadata": {},
   "outputs": [],
   "source": [
    "console.log(num1, \"+\", num2, '=', num1 + num2);\n",
    "console.log(num1, '-', num2, '=', num1 - num2);\n",
    "console.log(num1, '*', num2, '=', num1 * num2);\n",
    "console.log(num1, '/', num2, '=', num1 / num2);\n",
    "console.log(num1, '**', num2, '=', num1 ** num2);\n",
    "console.log(num1, '%', num2, '=', num1 % num2);"
   ]
  },
  {
   "cell_type": "code",
   "execution_count": null,
   "metadata": {},
   "outputs": [],
   "source": [
    "// postincrement\n",
    "var i = 10;\n",
    "console.log(i++);\n",
    "console.log(i);"
   ]
  },
  {
   "cell_type": "code",
   "execution_count": null,
   "metadata": {},
   "outputs": [],
   "source": [
    "// preincrement\n",
    "var i = 10;\n",
    "console.log(++i);\n",
    "console.log(i);"
   ]
  },
  {
   "cell_type": "code",
   "execution_count": null,
   "metadata": {},
   "outputs": [],
   "source": [
    "// predecrement\n",
    "var i = 10;\n",
    "console.log(--i);\n",
    "console.log(i);"
   ]
  },
  {
   "cell_type": "code",
   "execution_count": null,
   "metadata": {},
   "outputs": [],
   "source": [
    "// postdecrement\n",
    "var i = 10;\n",
    "console.log(i--);\n",
    "console.log(i);"
   ]
  },
  {
   "cell_type": "code",
   "execution_count": null,
   "metadata": {},
   "outputs": [],
   "source": [
    "var x = 5 + 5;\n",
    "var y = \"5\" + 5;\n",
    "var z = \"Hello\" + 5 + 11;\n",
    "var name = \"John\" + \" \" + \"Smith\";\n",
    "var val = 10 + 20 + \"apple\";"
   ]
  },
  {
   "cell_type": "code",
   "execution_count": null,
   "metadata": {},
   "outputs": [],
   "source": [
    "console.log(x, y, z, name, val);"
   ]
  },
  {
   "cell_type": "markdown",
   "metadata": {},
   "source": [
    "### NaN - Not-a-Number"
   ]
  },
  {
   "cell_type": "code",
   "execution_count": null,
   "metadata": {},
   "outputs": [],
   "source": [
    "console.log('hi'*3);\n",
    "console.log(2000/'apple');"
   ]
  },
  {
   "cell_type": "markdown",
   "metadata": {},
   "source": [
    "# built-in typeof operator"
   ]
  },
  {
   "cell_type": "code",
   "execution_count": null,
   "metadata": {},
   "outputs": [],
   "source": [
    "console.log(typeof(0));\n",
    "console.log(typeof(\"314\"));\n",
    "console.log(typeof(3.14));\n",
    "console.log(typeof(3));\n",
    "console.log(typeof(3+4));\n",
    "console.log(typeof(NaN));"
   ]
  },
  {
   "cell_type": "markdown",
   "metadata": {},
   "source": [
    "### Numeric strings\n",
    "- JS converst strings to numbers in all numeric operations"
   ]
  },
  {
   "cell_type": "code",
   "execution_count": null,
   "metadata": {},
   "outputs": [],
   "source": [
    "var x = '100';\n",
    "var y = '3';\n",
    "var z = x / y;\n",
    "var a = x * y;\n",
    "var diff = x - y;\n",
    "var sum = x + y; // concatenates"
   ]
  },
  {
   "cell_type": "code",
   "execution_count": null,
   "metadata": {},
   "outputs": [],
   "source": [
    "console.log(x, y, z, a, diff, sum);"
   ]
  },
  {
   "cell_type": "markdown",
   "metadata": {},
   "source": [
    "## Infinity and -Infinity\n",
    "- numbers outside the largest or smallest possible numbers respectively"
   ]
  },
  {
   "cell_type": "code",
   "execution_count": null,
   "metadata": {},
   "outputs": [],
   "source": [
    "// division by 0\n",
    "console.log(10 / 0);\n",
    "console.log(-2 / 0);"
   ]
  },
  {
   "cell_type": "code",
   "execution_count": null,
   "metadata": {},
   "outputs": [],
   "source": [
    "typeof(Infinity);"
   ]
  },
  {
   "cell_type": "code",
   "execution_count": null,
   "metadata": {},
   "outputs": [],
   "source": [
    "var x = 0xFF // will be converted to decimal by default\n",
    "console.log(x);"
   ]
  },
  {
   "cell_type": "markdown",
   "metadata": {},
   "source": [
    "## Converting variables to numbers\n",
    "- 3 global functions covered in Built-in-Functions notebook\n",
    "- Number(arg) - returns a number converted from its argument\n",
    "- paseInt(arg) - parse and return an integer\n",
    "- parseFloat(arg) - parse and return a floating point number"
   ]
  },
  {
   "cell_type": "markdown",
   "metadata": {},
   "source": [
    "## Number Properties"
   ]
  },
  {
   "cell_type": "code",
   "execution_count": null,
   "metadata": {},
   "outputs": [],
   "source": [
    "console.log(Number.MAX_VALUE); // returns the largest number possible in JS\n",
    "console.log(Number.MIN_VALUE); // returns the smallest number possible\n",
    "console.log(Number.POSITIVE_INFINITY);\n",
    "console.log(Number.NEGATIVE_INFINITY);"
   ]
  },
  {
   "cell_type": "markdown",
   "metadata": {},
   "source": [
    "### Numbers have methods"
   ]
  },
  {
   "cell_type": "code",
   "execution_count": null,
   "metadata": {},
   "outputs": [],
   "source": [
    "var myNum = 32;\n",
    "console.log(myNum.toString(10));\n",
    "console.log(myNum.toString(32));\n",
    "console.log(myNum.toString(16));\n",
    "console.log(myNum.toString(8));\n",
    "console.log(myNum.toString());"
   ]
  },
  {
   "cell_type": "code",
   "execution_count": null,
   "metadata": {},
   "outputs": [],
   "source": [
    "console.log(Number.isInteger(123)); // checks whether a value is an integer\n",
    "console.log(Number.isInteger('123'));\n",
    "console.log(Number.isInteger(0.454));"
   ]
  },
  {
   "cell_type": "code",
   "execution_count": null,
   "metadata": {},
   "outputs": [],
   "source": [
    "var num = 5.56789;\n",
    "var n = num.toFixed(2); // rounds a number to two decimal points and returns the new value as string\n",
    "console.log(n);\n",
    "console.log(123.23423.toFixed(2));\n",
    "typeof n;"
   ]
  },
  {
   "cell_type": "code",
   "execution_count": null,
   "metadata": {},
   "outputs": [],
   "source": [
    "var num = 13.3714;\n",
    "var n = num.toPrecision(2); // formats num into a specified length and returns the new value as string\n",
    "console.log(n);\n",
    "typeof (n);"
   ]
  },
  {
   "cell_type": "markdown",
   "metadata": {},
   "source": [
    "## Math Object\n",
    "- provides common math operations as methods such abs(x), cos(x), sin(x), tan(x), ceil(x), \n",
    "    random(), round(x), sqrt(x), etc.\n",
    "- Math object is globally available and do not require you to include/import any library\n",
    "- all properties of Math can be found here: https://developer.mozilla.org/en-US/docs/Web/JavaScript/Reference/Global_Objects/Math"
   ]
  },
  {
   "cell_type": "code",
   "execution_count": null,
   "metadata": {},
   "outputs": [],
   "source": [
    "console.log(Math.PI);"
   ]
  },
  {
   "cell_type": "code",
   "execution_count": null,
   "metadata": {},
   "outputs": [],
   "source": [
    "var rand = Math.random(); // returns a pseudo-random number between 0 and 1\n",
    "console.log(rand);\n",
    "console.log(Math.floor(rand*10 + 1)); // print a random number between 1 and 10"
   ]
  },
  {
   "cell_type": "code",
   "execution_count": null,
   "metadata": {},
   "outputs": [],
   "source": [
    "// Return a random number between 1 and 100 ?"
   ]
  },
  {
   "cell_type": "code",
   "execution_count": null,
   "metadata": {},
   "outputs": [],
   "source": [
    "console.log(Math.max(10, 24, 244.24));"
   ]
  },
  {
   "cell_type": "code",
   "execution_count": null,
   "metadata": {},
   "outputs": [],
   "source": [
    "console.log(Math.min(242, 34, -334));"
   ]
  },
  {
   "cell_type": "code",
   "execution_count": null,
   "metadata": {},
   "outputs": [],
   "source": [
    "console.log(Math.round(0.6)); // rounds to nearest integer\n",
    "console.log(Math.round(0.5));\n",
    "console.log(Math.round(0.4));"
   ]
  },
  {
   "cell_type": "code",
   "execution_count": null,
   "metadata": {},
   "outputs": [],
   "source": [
    "console.log(Math.abs(-10));\n",
    "console.log(Math.abs(11.23));"
   ]
  },
  {
   "cell_type": "code",
   "execution_count": null,
   "metadata": {},
   "outputs": [],
   "source": [
    "console.log(Math.sin(0)); //degree in radians\n",
    "console.log(Math.sin(Math.PI/2));"
   ]
  },
  {
   "cell_type": "code",
   "execution_count": null,
   "metadata": {},
   "outputs": [],
   "source": [
    "console.log(Math.log(1024)); // natural logarithm (base E) of a number"
   ]
  },
  {
   "cell_type": "code",
   "execution_count": null,
   "metadata": {},
   "outputs": [],
   "source": [
    "console.log(Math.pow(3, 4));\n",
    "console.log(Math.pow(2, 32));"
   ]
  },
  {
   "cell_type": "code",
   "execution_count": null,
   "metadata": {},
   "outputs": [],
   "source": [
    "console.log(Math.sqrt(100));\n",
    "console.log(Math.sqrt(3434.34));"
   ]
  },
  {
   "cell_type": "code",
   "execution_count": null,
   "metadata": {},
   "outputs": [],
   "source": [
    "console.log(Math.round(1.9)); // rounds x to nearest integer\n",
    "console.log(Math.round(1.4));"
   ]
  },
  {
   "cell_type": "code",
   "execution_count": null,
   "metadata": {},
   "outputs": [],
   "source": [
    "console.log(Math.trunc(121.2323));\n",
    "console.log(Math.trunc(324.990));"
   ]
  },
  {
   "cell_type": "code",
   "execution_count": null,
   "metadata": {},
   "outputs": [],
   "source": []
  }
 ],
 "metadata": {
  "kernelspec": {
   "display_name": "Javascript (Node.js)",
   "language": "javascript",
   "name": "javascript"
  },
  "language_info": {
   "file_extension": ".js",
   "mimetype": "application/javascript",
   "name": "javascript",
   "version": "10.10.0"
  }
 },
 "nbformat": 4,
 "nbformat_minor": 2
}
