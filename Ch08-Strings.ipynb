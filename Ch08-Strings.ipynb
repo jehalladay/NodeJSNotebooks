{
 "cells": [
  {
   "cell_type": "markdown",
   "metadata": {},
   "source": [
    "# Strings\n",
    "- JS strings are used for storing and manipulating text\n",
    "- string is zero or more characters written insde quotes (single or double)"
   ]
  },
  {
   "cell_type": "code",
   "execution_count": null,
   "metadata": {},
   "outputs": [],
   "source": [
    "var name = \"John Doe\";\n",
    "var carName = 'Tesla Model X';\n",
    "var answer = \"It's alright\";\n",
    "var answer1 = 'He goes by \"Johnny\"';"
   ]
  },
  {
   "cell_type": "markdown",
   "metadata": {},
   "source": [
    "## Special characters\n",
    "- \\' - single quote\n",
    "- \\\" - double quote\n",
    "- \\\\ - backslash\n",
    "- Other escape sequences are valid in JS\n",
    "        - \\b - backspace\n",
    "        - \\f - form feed\n",
    "        - \\n - new line\n",
    "        - \\r - carriage return\n",
    "        - \\t - horizontal tab\n",
    "        - \\v - vertical tab\n",
    "        "
   ]
  },
  {
   "cell_type": "code",
   "execution_count": null,
   "metadata": {},
   "outputs": [],
   "source": [
    "var x = \"We are the so-called \"Vikings\" from the north.\";"
   ]
  },
  {
   "cell_type": "code",
   "execution_count": null,
   "metadata": {},
   "outputs": [],
   "source": [
    "var x = \"We are the so-called \\\"Vikings\\\" from the north.\";"
   ]
  },
  {
   "cell_type": "markdown",
   "metadata": {},
   "source": [
    "## String methods and properties\n",
    "- detail list can be found at: \n",
    "https://developer.mozilla.org/en-US/docs/Web/JavaScript/Reference/Global_Objects/String\n",
    "\n",
    "### length property\n",
    "- obj.length returns length or no. of characters in string object"
   ]
  },
  {
   "cell_type": "code",
   "execution_count": null,
   "metadata": {},
   "outputs": [],
   "source": [
    "console.log(x.length)"
   ]
  },
  {
   "cell_type": "markdown",
   "metadata": {},
   "source": [
    "### Finding substring in a string\n",
    "- indexOf() method returns the index of (the position of) the first occurance of a specified substring in a string\n",
    "    - returns -1 if the substring is not found\n",
    "- search() method searches a substring and returns the position of the match\n",
    "    - returns -1 if the substring is not found"
   ]
  },
  {
   "cell_type": "code",
   "execution_count": null,
   "metadata": {},
   "outputs": [],
   "source": [
    "var str = \"There're needles in the big pile of haystack. Good luck finding the needles.\";\n",
    "var pos = str.indexOf('needle');\n",
    "console.log('needles found at index: ', pos);\n",
    "console.log(str.lastIndexOf('needle'));"
   ]
  },
  {
   "cell_type": "code",
   "execution_count": null,
   "metadata": {},
   "outputs": [],
   "source": [
    "console.log(str.search('needle'));\n",
    "console.log(str.search('Needle'));"
   ]
  },
  {
   "cell_type": "markdown",
   "metadata": {},
   "source": [
    "### Slicing or extracting string parts\n",
    "- slice(start, end) - start index is inclusive and end index is exclusive and optional\n",
    "- substring(start, end)\n",
    "- substr(start, length)"
   ]
  },
  {
   "cell_type": "code",
   "execution_count": null,
   "metadata": {},
   "outputs": [],
   "source": [
    "var str = \"Apple, Banana, Kiwi\";\n",
    "var res = str.slice(7, 13);\n",
    "console.log(res)\n",
    "console.log(str.slice(-12, -6));\n",
    "console.log(str.slice(7));\n",
    "console.log(str.slice(-12))"
   ]
  },
  {
   "cell_type": "code",
   "execution_count": null,
   "metadata": {},
   "outputs": [],
   "source": [
    "var str = \"Apple, Banana, Kiwi\";\n",
    "var res = str.substring(7, 13);\n",
    "console.log(res);"
   ]
  },
  {
   "cell_type": "code",
   "execution_count": null,
   "metadata": {},
   "outputs": [],
   "source": [
    "var res1 = str.substr(7, 6);\n",
    "console.log(res1);\n",
    "console.log(str.substr(7));\n",
    "console.log(str.substr(-4));"
   ]
  },
  {
   "cell_type": "markdown",
   "metadata": {},
   "source": [
    "## Replacing string content\n",
    "- replace() method replaces a specified value with another value in string and returns the new string"
   ]
  },
  {
   "cell_type": "code",
   "execution_count": null,
   "metadata": {},
   "outputs": [],
   "source": [
    "var str = \"Apple, Banana, Kiwi\";\n",
    "var newStr = str.replace('Apple,', 'Mango');\n",
    "console.log(str)\n",
    "console.log(newStr)"
   ]
  },
  {
   "cell_type": "markdown",
   "metadata": {},
   "source": [
    "### Converting to Upper and Lower Case\n",
    "- toUpperCase() - converts and returns uppercase text\n",
    "- toLowerCase() - converts and returns lowercase text"
   ]
  },
  {
   "cell_type": "code",
   "execution_count": null,
   "metadata": {},
   "outputs": [],
   "source": [
    "var text1 = \"Hello there Beautiful World!\";\n",
    "var text2 = text1.toUpperCase();\n",
    "console.log(text1);\n",
    "console.log(text2);"
   ]
  },
  {
   "cell_type": "code",
   "execution_count": null,
   "metadata": {},
   "outputs": [],
   "source": [
    "var text3 = text2.toLowerCase();\n",
    "console.log(text3)"
   ]
  },
  {
   "cell_type": "markdown",
   "metadata": {},
   "source": [
    "### concatenating / joining two or more strings\n",
    "- concat()\n",
    "- \\+ operator"
   ]
  },
  {
   "cell_type": "code",
   "execution_count": null,
   "metadata": {},
   "outputs": [],
   "source": [
    "var str1 = \"Hello\";\n",
    "var str2 = \"World\";\n",
    "var text = str1.concat(\" \", str2);\n",
    "console.log(text)\n",
    "console.log(str1 + ' ' + str2)\n",
    "console.log(\"%s %s\", str1, str2)"
   ]
  },
  {
   "cell_type": "markdown",
   "metadata": {},
   "source": [
    "### trimming / removing white spaces from both ends\n",
    "- trim() - returns new string trimming whitespaces on both sides"
   ]
  },
  {
   "cell_type": "code",
   "execution_count": null,
   "metadata": {},
   "outputs": [],
   "source": [
    "var str = \"       Hello World!        \";\n",
    "var str1 = str.trim();\n",
    "console.log(str1);\n",
    "console.log(str)"
   ]
  },
  {
   "cell_type": "markdown",
   "metadata": {},
   "source": [
    "### extracting string characters\n",
    "- charAt(position)\n",
    "- charCodeAt(position)\n",
    "- [] proerty access"
   ]
  },
  {
   "cell_type": "code",
   "execution_count": null,
   "metadata": {},
   "outputs": [],
   "source": [
    "var str = \"HELLO WORLD\";\n",
    "console.log(str.charAt(0));\n",
    "console.log(str.charCodeAt(0));\n",
    "console.log(str[0]);"
   ]
  },
  {
   "cell_type": "code",
   "execution_count": null,
   "metadata": {},
   "outputs": [],
   "source": [
    "str[0] = \"h\"; // assignment doesn't work; doesn't give error. \n",
    "// Can't replace character in place because string is immutable\n",
    "console.log(str[0]);"
   ]
  },
  {
   "cell_type": "markdown",
   "metadata": {},
   "source": [
    "### converting strings into arrays\n",
    "- split() method allows us to convert string into array"
   ]
  },
  {
   "cell_type": "code",
   "execution_count": null,
   "metadata": {},
   "outputs": [],
   "source": [
    "var txt = \"a, b, c, d, e\";            // String\n",
    "console.log(txt.split(\",\"));          // Split on commas\n",
    "console.log(txt.split(\" \"));          // Split on spaces\n",
    "console.log(txt.split(\"|\"));          // Split on pipe"
   ]
  },
  {
   "cell_type": "code",
   "execution_count": null,
   "metadata": {},
   "outputs": [],
   "source": [
    "var str = \"Hello World\";\n",
    "var charList = str.split('');\n",
    "console.log(charList)"
   ]
  }
 ],
 "metadata": {
  "kernelspec": {
   "display_name": "Javascript (Node.js)",
   "language": "javascript",
   "name": "javascript"
  },
  "language_info": {
   "file_extension": ".js",
   "mimetype": "application/javascript",
   "name": "javascript",
   "version": "10.10.0"
  }
 },
 "nbformat": 4,
 "nbformat_minor": 2
}
