{
 "cells": [
  {
   "cell_type": "markdown",
   "metadata": {},
   "source": [
    "# Higher-Order Functions and Functional Programming"
   ]
  },
  {
   "cell_type": "markdown",
   "metadata": {},
   "source": [
    "## Anonymous Functions\n",
    "\n",
    "Also known as Lamda functions, these are functions that can be placed inline instead of being declared at a previous position"
   ]
  },
  {
   "cell_type": "code",
   "execution_count": 53,
   "metadata": {},
   "outputs": [],
   "source": [
    "var helloWorld = ()=>console.log(\"hello world!\")"
   ]
  },
  {
   "cell_type": "code",
   "execution_count": 54,
   "metadata": {},
   "outputs": [
    {
     "data": {
      "text/plain": [
       "[Function: helloWorld]"
      ]
     },
     "execution_count": 54,
     "metadata": {},
     "output_type": "execute_result"
    }
   ],
   "source": [
    "helloWorld"
   ]
  },
  {
   "cell_type": "code",
   "execution_count": 55,
   "metadata": {},
   "outputs": [
    {
     "name": "stdout",
     "output_type": "stream",
     "text": [
      "hello world!\n"
     ]
    }
   ],
   "source": [
    "helloWorld()"
   ]
  },
  {
   "cell_type": "markdown",
   "metadata": {},
   "source": [
    "## A higher order function is a function that takes a function as one of its parameters\n",
    "\n",
    "Examples of this include the map, filter, and reduce funtions we are already familiar with"
   ]
  },
  {
   "cell_type": "code",
   "execution_count": 57,
   "metadata": {},
   "outputs": [],
   "source": [
    "var square = function (x) {\n",
    "    return x*x\n",
    "}"
   ]
  },
  {
   "cell_type": "code",
   "execution_count": 61,
   "metadata": {},
   "outputs": [
    {
     "name": "stdout",
     "output_type": "stream",
     "text": [
      "[ 1, 4, 9, 16, 25 ]\n"
     ]
    }
   ],
   "source": [
    "var arr = [1, 2, 3, 4, 5]\n",
    "\n",
    "var arr2 = arr.map(square)\n",
    "\n",
    "console.log(arr2)"
   ]
  },
  {
   "cell_type": "markdown",
   "metadata": {},
   "source": [
    "Anonymous functions can be used to provide the argument without explicitly declaring the function or attaching it to a variable. \n",
    "\n",
    "The Advantage of such a style is it allows code to read more consicely and you do not have to go to a previous function call to find out what the map function is doing to the data."
   ]
  },
  {
   "cell_type": "code",
   "execution_count": 87,
   "metadata": {},
   "outputs": [
    {
     "name": "stdout",
     "output_type": "stream",
     "text": [
      "[ 1, 4, 9, 16, 25 ]\n"
     ]
    }
   ],
   "source": [
    "var arr3 = arr.map((x)=>x*x)\n",
    "\n",
    "console.log(arr3)"
   ]
  },
  {
   "cell_type": "markdown",
   "metadata": {},
   "source": [
    "## Hoisting\n",
    "\n",
    "Javascript hoists declared variables to the top of whatever scope they are declared in. This seems un-important but has ramifications when functions are hoisted"
   ]
  },
  {
   "cell_type": "code",
   "execution_count": 80,
   "metadata": {},
   "outputs": [
    {
     "name": "stdout",
     "output_type": "stream",
     "text": [
      "Hoisted!\n",
      "10 != 100\n",
      "Hoisted!\n",
      "10 != 100\n"
     ]
    }
   ],
   "source": [
    "function demo(x) {\n",
    "    console.log(\"10 =\",x)\n",
    "}\n",
    "\n",
    "demo(10)\n",
    "\n",
    "function demo(x) {\n",
    "    console.log(\"Hoisted!\")\n",
    "    console.log(\"10 !=\",x*x)\n",
    "}\n",
    "\n",
    "demo(10)"
   ]
  },
  {
   "cell_type": "markdown",
   "metadata": {},
   "source": [
    "The function written below the call is ultimately called because before demo(10) was executed the second demo function was hoisted to the top of the current scope. This can be circumvented by creating a function expression"
   ]
  },
  {
   "cell_type": "code",
   "execution_count": 77,
   "metadata": {},
   "outputs": [
    {
     "name": "stdout",
     "output_type": "stream",
     "text": [
      "hello world 10\n"
     ]
    }
   ],
   "source": [
    "var func = (x)=>{console.log(\"hello world\", x)}\n",
    "\n",
    "func(10)"
   ]
  },
  {
   "cell_type": "code",
   "execution_count": 82,
   "metadata": {},
   "outputs": [
    {
     "name": "stdout",
     "output_type": "stream",
     "text": [
      "10 = 10\n",
      "Not Hoisted\n",
      "10 != 10\n"
     ]
    }
   ],
   "source": [
    "function demo2(x) {\n",
    "    console.log(\"10 =\", x)\n",
    "}\n",
    "\n",
    "demo2(10)\n",
    "\n",
    "var demo2 = (x)=>{\n",
    "    console.log(\"Not Hoisted\")\n",
    "    console.log(\"10 !=\", x)\n",
    "}\n",
    "\n",
    "demo2(10)"
   ]
  },
  {
   "cell_type": "code",
   "execution_count": 85,
   "metadata": {},
   "outputs": [
    {
     "name": "stdout",
     "output_type": "stream",
     "text": [
      "15\n"
     ]
    }
   ],
   "source": [
    "var y = 10;\n",
    "\n",
    "var demo4 = function demo3(x) {console.log(x+y)}\n",
    "\n",
    "demo4(5)"
   ]
  },
  {
   "cell_type": "markdown",
   "metadata": {},
   "source": [
    "## Closures\n",
    "\n",
    "Written in this way the functional expression becomes a form of closure.\n",
    "Closures are nested functions that have access to the scope of the parent function\n"
   ]
  },
  {
   "cell_type": "code",
   "execution_count": 120,
   "metadata": {},
   "outputs": [],
   "source": [
    "var Incrementer = function() {\n",
    "    var inc = 0\n",
    "    var collect = function(x) {\n",
    "        inc += x;\n",
    "        return inc;\n",
    "    }\n",
    "    return collect;\n",
    "}"
   ]
  },
  {
   "cell_type": "code",
   "execution_count": 129,
   "metadata": {},
   "outputs": [
    {
     "data": {
      "text/plain": [
       "[Function: Incrementer]"
      ]
     },
     "execution_count": 129,
     "metadata": {},
     "output_type": "execute_result"
    }
   ],
   "source": [
    "Incrementer"
   ]
  },
  {
   "cell_type": "code",
   "execution_count": 130,
   "metadata": {},
   "outputs": [
    {
     "data": {
      "text/plain": [
       "[Function: collect]"
      ]
     },
     "execution_count": 130,
     "metadata": {},
     "output_type": "execute_result"
    }
   ],
   "source": [
    "var keepCount = Incrementer()\n",
    "keepCount"
   ]
  },
  {
   "cell_type": "code",
   "execution_count": 126,
   "metadata": {},
   "outputs": [
    {
     "data": {
      "text/plain": [
       "1"
      ]
     },
     "execution_count": 126,
     "metadata": {},
     "output_type": "execute_result"
    }
   ],
   "source": [
    "keepCount(1)"
   ]
  },
  {
   "cell_type": "code",
   "execution_count": 127,
   "metadata": {},
   "outputs": [
    {
     "data": {
      "text/plain": [
       "0"
      ]
     },
     "execution_count": 127,
     "metadata": {},
     "output_type": "execute_result"
    }
   ],
   "source": [
    "keepCount(-1)"
   ]
  },
  {
   "cell_type": "code",
   "execution_count": 133,
   "metadata": {},
   "outputs": [
    {
     "name": "stdout",
     "output_type": "stream",
     "text": [
      "5\n",
      "10\n",
      "15\n"
     ]
    }
   ],
   "source": [
    "console.log(keepCount(5))\n",
    "console.log(keepCount(5))\n",
    "console.log(keepCount(5))"
   ]
  },
  {
   "cell_type": "code",
   "execution_count": 134,
   "metadata": {},
   "outputs": [
    {
     "data": {
      "text/plain": [
       "-10"
      ]
     },
     "execution_count": 134,
     "metadata": {},
     "output_type": "execute_result"
    }
   ],
   "source": [
    "keepCount(-25)"
   ]
  },
  {
   "cell_type": "markdown",
   "metadata": {},
   "source": [
    "## Factory Functions\n",
    "\n",
    "Factory Functions are functions that return a function"
   ]
  },
  {
   "cell_type": "code",
   "execution_count": 94,
   "metadata": {},
   "outputs": [],
   "source": [
    "var factory = function (x){\n",
    "    var x;\n",
    "    return()=>{console.log(\"hello world: \\t\", x)}\n",
    "}"
   ]
  },
  {
   "cell_type": "code",
   "execution_count": 95,
   "metadata": {},
   "outputs": [],
   "source": [
    "var hello5 = factory(5)"
   ]
  },
  {
   "cell_type": "code",
   "execution_count": 96,
   "metadata": {},
   "outputs": [
    {
     "data": {
      "text/plain": [
       "[Function]"
      ]
     },
     "execution_count": 96,
     "metadata": {},
     "output_type": "execute_result"
    }
   ],
   "source": [
    "hello5"
   ]
  },
  {
   "cell_type": "code",
   "execution_count": 97,
   "metadata": {},
   "outputs": [
    {
     "name": "stdout",
     "output_type": "stream",
     "text": [
      "hello world: \t 5\n"
     ]
    }
   ],
   "source": [
    "hello5()"
   ]
  },
  {
   "cell_type": "markdown",
   "metadata": {},
   "source": [
    "## Currying"
   ]
  },
  {
   "cell_type": "code",
   "execution_count": 22,
   "metadata": {},
   "outputs": [],
   "source": [
    "var foo = function(x) {\n",
    "    var x;\n",
    "    return function(y){\n",
    "        return x+y;\n",
    "    }\n",
    "}"
   ]
  },
  {
   "cell_type": "code",
   "execution_count": 23,
   "metadata": {},
   "outputs": [
    {
     "name": "stdout",
     "output_type": "stream",
     "text": [
      "11\n"
     ]
    }
   ],
   "source": [
    "console.log(foo(5)(6))"
   ]
  },
  {
   "cell_type": "code",
   "execution_count": 24,
   "metadata": {},
   "outputs": [
    {
     "data": {
      "text/plain": [
       "[Function]"
      ]
     },
     "execution_count": 24,
     "metadata": {},
     "output_type": "execute_result"
    }
   ],
   "source": [
    "bar = foo(5)\n",
    "big = foo(105)"
   ]
  },
  {
   "cell_type": "code",
   "execution_count": 135,
   "metadata": {},
   "outputs": [
    {
     "name": "stdout",
     "output_type": "stream",
     "text": [
      "Function bar:\n",
      "15\n",
      "5\n",
      "105\n",
      "25\n",
      "\n",
      "Function big:\n",
      "106\n",
      "130\n",
      "116\n",
      "117\n"
     ]
    }
   ],
   "source": [
    "console.log(\"Function bar:\")\n",
    "\n",
    "console.log(bar(10))\n",
    "console.log(bar(0))\n",
    "console.log(bar(100))\n",
    "console.log(bar(20))\n",
    "\n",
    "console.log()\n",
    "console.log(\"Function big:\")\n",
    "\n",
    "console.log(big(1))\n",
    "console.log(big(25))\n",
    "console.log(big(11))\n",
    "console.log(big(12))"
   ]
  },
  {
   "cell_type": "markdown",
   "metadata": {},
   "source": [
    "Currying can be done in numerous ways including multiple curries side by side or nested inside one another"
   ]
  },
  {
   "cell_type": "code",
   "execution_count": 57,
   "metadata": {},
   "outputs": [],
   "source": [
    "var powerSum = (x)=>{\n",
    "    var x;\n",
    "    return (n)=>{\n",
    "        return (m)=>{\n",
    "            return n**x + m**x\n",
    "        }\n",
    "    }\n",
    "}"
   ]
  },
  {
   "cell_type": "code",
   "execution_count": 60,
   "metadata": {},
   "outputs": [],
   "source": [
    "var SumSquares = powerSum(2) "
   ]
  },
  {
   "cell_type": "code",
   "execution_count": 63,
   "metadata": {},
   "outputs": [
    {
     "name": "stdout",
     "output_type": "stream",
     "text": [
      "13\n"
     ]
    }
   ],
   "source": [
    "console.log(SumSquares(2)(3))"
   ]
  },
  {
   "cell_type": "code",
   "execution_count": 65,
   "metadata": {},
   "outputs": [
    {
     "name": "stdout",
     "output_type": "stream",
     "text": [
      "13\n"
     ]
    }
   ],
   "source": [
    "console.log(powerSum(2)(2)(3))"
   ]
  },
  {
   "cell_type": "code",
   "execution_count": 22,
   "metadata": {},
   "outputs": [],
   "source": [
    "var power = function(a) {\n",
    "    var a;\n",
    "    return (b)=>b**a\n",
    "}"
   ]
  },
  {
   "cell_type": "code",
   "execution_count": 23,
   "metadata": {},
   "outputs": [],
   "source": [
    "var square = power(2)"
   ]
  },
  {
   "cell_type": "code",
   "execution_count": 50,
   "metadata": {},
   "outputs": [],
   "source": [
    "\n",
    "var sumOfSquares = (n)=>{\n",
    "    var n;\n",
    "    return (m)=>{return square(n)+square(m)}\n",
    "}"
   ]
  },
  {
   "cell_type": "code",
   "execution_count": 54,
   "metadata": {},
   "outputs": [
    {
     "data": {
      "text/plain": [
       "[Function]"
      ]
     },
     "execution_count": 54,
     "metadata": {},
     "output_type": "execute_result"
    }
   ],
   "source": [
    "squareSum = sumOfSquares(3)"
   ]
  },
  {
   "cell_type": "code",
   "execution_count": 55,
   "metadata": {},
   "outputs": [
    {
     "data": {
      "text/plain": [
       "13"
      ]
     },
     "execution_count": 55,
     "metadata": {},
     "output_type": "execute_result"
    }
   ],
   "source": [
    "squareSum(2)"
   ]
  },
  {
   "cell_type": "code",
   "execution_count": 66,
   "metadata": {},
   "outputs": [
    {
     "name": "stdout",
     "output_type": "stream",
     "text": [
      "[Function]\n",
      "[Function]\n",
      "[Function]\n"
     ]
    }
   ],
   "source": [
    "var squarePlusNine = sumOfSquares.bind(sumOfSquares, 3)\n",
    "console.log(squarePlusNine(2))\n",
    "console.log(squarePlusNine(3))\n",
    "console.log(squarePlusNine(4))"
   ]
  },
  {
   "cell_type": "markdown",
   "metadata": {},
   "source": [
    "## The forEach Function\n",
    "\n",
    "This function creates the functional equivalent of a for-loop that can take up to 3 parameters "
   ]
  },
  {
   "cell_type": "code",
   "execution_count": 29,
   "metadata": {},
   "outputs": [
    {
     "name": "stdout",
     "output_type": "stream",
     "text": [
      "1\n",
      "2\n",
      "3\n",
      "4\n",
      "5\n"
     ]
    }
   ],
   "source": [
    "var y = [1,2,3,4,5]\n",
    "for (x of y) {\n",
    "    console.log(x)\n",
    "}"
   ]
  },
  {
   "cell_type": "code",
   "execution_count": 30,
   "metadata": {},
   "outputs": [
    {
     "name": "stdout",
     "output_type": "stream",
     "text": [
      "1\n",
      "2\n",
      "3\n",
      "4\n",
      "5\n"
     ]
    }
   ],
   "source": [
    "y.forEach((x)=>console.log(x))"
   ]
  },
  {
   "cell_type": "code",
   "execution_count": 78,
   "metadata": {},
   "outputs": [
    {
     "name": "stdout",
     "output_type": "stream",
     "text": [
      "[ [ 0, 1 ], [ 1, 2 ], [ 2, 3 ], [ 3, 4 ], [ 4, 5 ] ]\n"
     ]
    }
   ],
   "source": [
    "var z = []\n",
    "y.forEach((x, i)=>{z.push([i,x])})\n",
    "console.log(z)"
   ]
  },
  {
   "cell_type": "code",
   "execution_count": 85,
   "metadata": {},
   "outputs": [
    {
     "name": "stdout",
     "output_type": "stream",
     "text": [
      "index:  0\n",
      "element:  1\n",
      "array:  [ 1, 2, 3, 4, 5 ]\n",
      "index:  1\n",
      "element:  2\n",
      "array:  [ 1, 2, 3, 4, 5 ]\n",
      "index:  2\n",
      "element:  3\n",
      "array:  [ 1, 2, 3, 4, 5 ]\n",
      "index:  3\n",
      "element:  4\n",
      "array:  [ 1, 2, 3, 4, 5 ]\n",
      "index:  4\n",
      "element:  5\n",
      "array:  [ 1, 2, 3, 4, 5 ]\n"
     ]
    }
   ],
   "source": [
    "var ran = y.forEach((x, i, k)=>{\n",
    "    console.log(\"index: \", i)\n",
    "    console.log(\"element: \", x)\n",
    "    console.log(\"array: \", k)\n",
    "},true)"
   ]
  },
  {
   "cell_type": "code",
   "execution_count": 86,
   "metadata": {},
   "outputs": [
    {
     "name": "stdout",
     "output_type": "stream",
     "text": [
      "[ 2, 4, 6, 8, 10 ]\n"
     ]
    }
   ],
   "source": [
    "y.forEach((n, i, j)=>{\n",
    "    j[i] = 2*n\n",
    "})\n",
    "\n",
    "console.log(y)"
   ]
  },
  {
   "cell_type": "markdown",
   "metadata": {},
   "source": [
    "## The compose Function"
   ]
  },
  {
   "cell_type": "code",
   "execution_count": 39,
   "metadata": {},
   "outputs": [],
   "source": [
    "function adder(a) {\n",
    "    return a + 5\n",
    "    \n",
    "}\n",
    "\n",
    "function remainder(b) {\n",
    "    return a % 4\n",
    "}\n",
    "\n",
    "var first = 10"
   ]
  },
  {
   "cell_type": "code",
   "execution_count": 40,
   "metadata": {},
   "outputs": [
    {
     "ename": "TypeError",
     "evalue": "first.compose is not a function",
     "output_type": "error",
     "traceback": [
      "evalmachine.<anonymous>:1",
      "first.compose(adder(5), 5)",
      "      ^",
      "",
      "TypeError: first.compose is not a function",
      "    at evalmachine.<anonymous>:1:7",
      "    at Script.runInThisContext (vm.js:116:20)",
      "    at Object.runInThisContext (vm.js:306:38)",
      "    at run ([eval]:1054:15)",
      "    at onRunRequest ([eval]:888:18)",
      "    at onMessage ([eval]:848:13)",
      "    at process.emit (events.js:210:5)",
      "    at emit (internal/child_process.js:876:12)",
      "    at processTicksAndRejections (internal/process/task_queues.js:81:21)"
     ]
    }
   ],
   "source": [
    "first.compose(adder(5), )"
   ]
  },
  {
   "cell_type": "code",
   "execution_count": null,
   "metadata": {},
   "outputs": [],
   "source": []
  },
  {
   "cell_type": "markdown",
   "metadata": {},
   "source": [
    "## Deep Copy using the map Function"
   ]
  },
  {
   "cell_type": "code",
   "execution_count": 19,
   "metadata": {},
   "outputs": [
    {
     "name": "stdout",
     "output_type": "stream",
     "text": [
      "[ 'hello', 'Hola', 'Nichi' ]\n",
      "[ 'hello', 'Hola', 'Nichi' ]\n"
     ]
    }
   ],
   "source": [
    "var hi = [\"hello\", \"Hola\", \"Banwa\"]\n",
    "\n",
    "var hello = hi\n",
    "\n",
    "hello[2] = \"Nichi\"\n",
    "\n",
    "console.log(hi)\n",
    "console.log(hello)"
   ]
  },
  {
   "cell_type": "code",
   "execution_count": 21,
   "metadata": {},
   "outputs": [
    {
     "name": "stdout",
     "output_type": "stream",
     "text": [
      "[ 'hello', 'Hola', 'Nichi' ]\n",
      "[ 'hello', 'Hola', 'Moshi' ]\n"
     ]
    }
   ],
   "source": [
    "var hello2 = hi.map((x)=>x.slice())\n",
    "\n",
    "hello2[2] = \"Moshi\"\n",
    "\n",
    "console.log(hi)\n",
    "console.log(hello2)"
   ]
  },
  {
   "cell_type": "markdown",
   "metadata": {},
   "source": [
    "## Method Chaining"
   ]
  },
  {
   "cell_type": "code",
   "execution_count": 26,
   "metadata": {},
   "outputs": [],
   "source": [
    "var j = [1,2,3,4,5,6,7,8,9,10]"
   ]
  },
  {
   "cell_type": "code",
   "execution_count": 37,
   "metadata": {},
   "outputs": [],
   "source": [
    "var z = [] \n",
    "j.concat(z).forEach((a)=>{a+1})"
   ]
  },
  {
   "cell_type": "code",
   "execution_count": 38,
   "metadata": {},
   "outputs": [
    {
     "name": "stdout",
     "output_type": "stream",
     "text": [
      "[]\n"
     ]
    }
   ],
   "source": [
    "console.log(z)"
   ]
  },
  {
   "cell_type": "raw",
   "metadata": {},
   "source": []
  },
  {
   "cell_type": "markdown",
   "metadata": {},
   "source": []
  },
  {
   "cell_type": "code",
   "execution_count": null,
   "metadata": {},
   "outputs": [],
   "source": []
  }
 ],
 "metadata": {
  "kernelspec": {
   "display_name": "Javascript (Node.js)",
   "language": "javascript",
   "name": "javascript"
  },
  "language_info": {
   "file_extension": ".js",
   "mimetype": "application/javascript",
   "name": "javascript",
   "version": "12.13.0"
  }
 },
 "nbformat": 4,
 "nbformat_minor": 2
}
