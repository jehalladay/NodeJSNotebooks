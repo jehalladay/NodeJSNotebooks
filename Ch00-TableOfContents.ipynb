{
 "cells": [
  {
   "cell_type": "markdown",
   "metadata": {},
   "source": [
    "# Intro to JavaScript and NodeJS\n",
    "\n",
    "## Table of Contents\n",
    "\n",
    "### [01- Introduction](Ch01-JavaScriptIntro.ipynb)\n",
    "\n",
    "### [02- Data Types and Std Input/Output](Ch02-Output-DataTypes-Variables.ipynb)\n",
    "\n",
    "### [03- Built-in Functions](Ch03-Built-inFunctions.ipynb)\n",
    "\n",
    "### [04- User-defined Functions](Ch04-UserDefinedFunctions.ipynb)\n",
    "\n",
    "### [05- Numbers & Math Library](Ch05-Numbers-And-Math.ipynb)\n",
    "\n",
    "### [06- Conditionals](Ch06-Conditionals.ipynb)\n",
    "\n",
    "### [07- Loops](Ch07-Loops.ipynb)\n",
    "\n",
    "### [08- Strings](Ch08-Strings.ipynb)\n",
    "\n",
    "### [09- Arrays](Ch09-Arrays.ipynb)\n",
    "\n",
    "### [10- Object-Dict](Ch10-Object-Dict.ipynb)\n",
    "\n",
    "### [11- Modules, Packages & Pkg Manager (NPM)](Ch11-Modules-And-Packages.ipynb)\n",
    "\n",
    "### [12- Files](Ch12-Files.ipynb)\n",
    "\n",
    "### [13- Errors & Exceptions](Ch13-Errors-And-Exceptions.ipynb)\n",
    "\n",
    "### [14- JSON](Ch14-JSON.ipynb)\n",
    "\n",
    "### [15- Object Oriented Programming (OOP)](Ch15-OOP-Class.ipynb)\n",
    "\n",
    "### [16- Regular Expression](Ch16-RegularExpression.ipynb)\n",
    "\n",
    "### [17- NodeJS Web Server](Ch17-Node.js-Server.ipynb)\n",
    "\n",
    "### [18- Express Web Framework](Ch18-Express.ipynb)\n",
    "\n",
    "### [19- MongoDB.ipynb](Ch19-MongoDB.ipynb)\n",
    "\n",
    "## Demo Programs & Scripts\n",
    "\n",
    "### JSDemo\n",
    "- folder has all individual JavaScript and NodeJS individual scripts\n",
    "\n",
    "### ExpressDemo\n",
    "- folder has a simple express demo app\n",
    "\n",
    "### NodeDemo\n",
    "- folder has a simple NodeJS server demo app\n",
    "\n",
    "### MongoDemo\n",
    "- folder has simple MongoDB demo scripts"
   ]
  },
  {
   "cell_type": "code",
   "execution_count": null,
   "metadata": {},
   "outputs": [],
   "source": []
  }
 ],
 "metadata": {
  "kernelspec": {
   "display_name": "Javascript (Node.js)",
   "language": "javascript",
   "name": "javascript"
  },
  "language_info": {
   "file_extension": ".js",
   "mimetype": "application/javascript",
   "name": "javascript",
   "version": "10.13.0"
  }
 },
 "nbformat": 4,
 "nbformat_minor": 2
}
