{
 "cells": [
  {
   "cell_type": "markdown",
   "metadata": {},
   "source": [
    "# Fundamentals, Output, Data types, Variables, Operators"
   ]
  },
  {
   "cell_type": "markdown",
   "metadata": {},
   "source": [
    "## Syntax & Statements\n",
    "    - JS program/script is a sequence of statements that usually solves some problem\n",
    "    - statements are typically written one line at a time\n",
    "    - semicolon separates the statements though it is optional\n",
    "    - semicolon required to write multiple statements in one line\n",
    "    - syntax somewhat similar to Python and C++/Java"
   ]
  },
  {
   "cell_type": "markdown",
   "metadata": {},
   "source": [
    "## Basic building blocks of programming\n",
    "1. Output\n",
    "2. Input\n",
    "3. Math operations\n",
    "4. Conditionals/Logics\n",
    "5. Loops/Iterations"
   ]
  },
  {
   "cell_type": "markdown",
   "metadata": {},
   "source": [
    "## Output\n",
    "    - JS can display data in various ways\n"
   ]
  },
  {
   "cell_type": "raw",
   "metadata": {},
   "source": [
    "1. Write output into the HTML document using document.write()\n",
    "\n",
    "    <script>\n",
    "        // note: document.write() will delete all existing HTML\n",
    "        // and used only for testing\n",
    "        /* Multiline \n",
    "           comments \n",
    "           Author name:\n",
    "           Program description: \n",
    "           Date:\n",
    "           Copyright info etc.\n",
    "        */\n",
    "        document.write(10 + 23);\n",
    "    </script>\n",
    "\n",
    "2. write into an HTML element using innerHTML\n",
    "\n",
    "    <p id=”demo”></p>\n",
    "    <script>\n",
    "        document.getElementById(“demo”).innerHTML = 10 + 23;\n",
    "    </script>\n",
    "\n",
    "3. Use alert box to display data\n",
    "    <script>\n",
    "        window.alert(10+33);\n",
    "    </script>\n",
    "\n",
    "4. Using console.log()\n",
    "    <script>\n",
    "        console.log(5+6);\n",
    "        // used for debugging purpose;\n",
    "        // see the output on chrome: Insecpt Element -> Console table\n",
    "    </script>"
   ]
  },
  {
   "cell_type": "markdown",
   "metadata": {},
   "source": [
    "// and /* */ are used for single and multiline comments respectively"
   ]
  },
  {
   "cell_type": "markdown",
   "metadata": {},
   "source": [
    "## Data types\n",
    "- numbers (both integers and floats are numbers and stored as 8 bytes floating point number)\n",
    "- text - string represrented using single or double quotes\n",
    "- boolean - true or false\n",
    "- undefined (type and value both unknown)"
   ]
  },
  {
   "cell_type": "markdown",
   "metadata": {},
   "source": [
    "# Variables\n",
    "- named memory location/containers for storing data values \n",
    "- data type of variable depends on the type of data stored (dynamically typed language)\n",
    "- variables are case sensitive\n",
    "- syntax: \n",
    "    var name = value;\n",
    "- = assignment operator that lets store value into a variable\n",
    "- value stored in variables can change\n",
    "- general rules for variables names:\n",
    "    - can contain letters, digits, underscores, and dollar signs\n",
    "    - can begin with $, _ or letter but not a digit\n",
    "    - reserved keywords cannot be used as names such as if, break, continue, else, while, etc.\n",
    "    - use concise self describing names\n",
    "    - use _ or camelCase to declare multipleWordVariableNames"
   ]
  },
  {
   "cell_type": "code",
   "execution_count": null,
   "metadata": {},
   "outputs": [],
   "source": [
    "var name = \"John\";"
   ]
  },
  {
   "cell_type": "code",
   "execution_count": null,
   "metadata": {},
   "outputs": [],
   "source": [
    "var lastName = 'Smith';"
   ]
  },
  {
   "cell_type": "code",
   "execution_count": null,
   "metadata": {},
   "outputs": [],
   "source": [
    "console.log(name);"
   ]
  },
  {
   "cell_type": "code",
   "execution_count": null,
   "metadata": {},
   "outputs": [],
   "source": [
    "// no var infront of variable creates \n",
    "// global variable even if they're declared inside function\n",
    "// so using var is the best practice\n",
    "age = 21;\n",
    "gpa = 3.9;"
   ]
  },
  {
   "cell_type": "code",
   "execution_count": null,
   "metadata": {},
   "outputs": [],
   "source": [
    "console.log(\"age =\", age, \"gpa =\", gpa);"
   ]
  },
  {
   "cell_type": "code",
   "execution_count": null,
   "metadata": {},
   "outputs": [],
   "source": [
    "var age = 31;\n",
    "console.log(age);"
   ]
  },
  {
   "cell_type": "code",
   "execution_count": null,
   "metadata": {},
   "outputs": [],
   "source": [
    "// type of data stored in variables can change dynamically as the value changes\n",
    "var value = 1; // integer number"
   ]
  },
  {
   "cell_type": "code",
   "execution_count": null,
   "metadata": {},
   "outputs": [],
   "source": [
    "var value = 2.3; // float number"
   ]
  },
  {
   "cell_type": "code",
   "execution_count": null,
   "metadata": {},
   "outputs": [],
   "source": [
    "var value = \"hi\"; // string"
   ]
  },
  {
   "cell_type": "code",
   "execution_count": null,
   "metadata": {},
   "outputs": [],
   "source": [
    "var value = false; // boolean"
   ]
  },
  {
   "cell_type": "code",
   "execution_count": null,
   "metadata": {},
   "outputs": [],
   "source": [
    "var value = undefined;"
   ]
  },
  {
   "cell_type": "markdown",
   "metadata": {},
   "source": [
    "## Escape Character & Sequence\n",
    "- \\\n",
    "- \\n - newline\n",
    "- \\t - tab\n",
    "- \\' - single quote\n",
    "- \\\" - double quote"
   ]
  },
  {
   "cell_type": "code",
   "execution_count": null,
   "metadata": {},
   "outputs": [],
   "source": [
    "console.log('\\');"
   ]
  },
  {
   "cell_type": "code",
   "execution_count": null,
   "metadata": {},
   "outputs": [],
   "source": [
    "console.log('\\\\');"
   ]
  },
  {
   "cell_type": "code",
   "execution_count": null,
   "metadata": {},
   "outputs": [],
   "source": [
    "console.log('hello\\nworld');"
   ]
  },
  {
   "cell_type": "code",
   "execution_count": null,
   "metadata": {},
   "outputs": [],
   "source": [
    "console.log('hello\\tworld');"
   ]
  },
  {
   "cell_type": "code",
   "execution_count": null,
   "metadata": {},
   "outputs": [],
   "source": [
    "console.log('Shaq 0\\'neal');"
   ]
  },
  {
   "cell_type": "code",
   "execution_count": null,
   "metadata": {},
   "outputs": [],
   "source": [
    "console.log('Jack said, \\\"Oh no! Joe\\'s bike\\'s borken.\\\"');"
   ]
  },
  {
   "cell_type": "markdown",
   "metadata": {},
   "source": [
    "## Constants"
   ]
  },
  {
   "cell_type": "code",
   "execution_count": null,
   "metadata": {},
   "outputs": [],
   "source": [
    "const pi = 3.14567;\n",
    "const newline = '\\n';"
   ]
  },
  {
   "cell_type": "code",
   "execution_count": null,
   "metadata": {},
   "outputs": [],
   "source": [
    "pi = 100;"
   ]
  },
  {
   "cell_type": "code",
   "execution_count": null,
   "metadata": {},
   "outputs": [],
   "source": [
    "console.log('hello', newline, 'world');"
   ]
  },
  {
   "cell_type": "code",
   "execution_count": null,
   "metadata": {},
   "outputs": [],
   "source": []
  }
 ],
 "metadata": {
  "kernelspec": {
   "display_name": "Javascript (Node.js)",
   "language": "javascript",
   "name": "javascript"
  },
  "language_info": {
   "file_extension": ".js",
   "mimetype": "application/javascript",
   "name": "javascript",
   "version": "10.10.0"
  }
 },
 "nbformat": 4,
 "nbformat_minor": 2
}
