{
 "cells": [
  {
   "cell_type": "markdown",
   "metadata": {},
   "source": [
    "# Built-in or global functions & modules"
   ]
  },
  {
   "cell_type": "markdown",
   "metadata": {},
   "source": [
    "## Global properties\n",
    "- Infinity - a numeric value that represents positive/negative infinity\n",
    "- NaN - \"Not-a-Number\" value\n",
    "- undefined - indicates a variable that has not been assigned a value"
   ]
  },
  {
   "cell_type": "markdown",
   "metadata": {},
   "source": [
    "## Global functions"
   ]
  },
  {
   "cell_type": "markdown",
   "metadata": {},
   "source": [
    "### decodeURI(uri)\n",
    "    - used to decode URI/URL\n",
    " \n",
    "### encodeURI(uri)\n",
    "    - used to encode URI/URL"
   ]
  },
  {
   "cell_type": "code",
   "execution_count": null,
   "metadata": {},
   "outputs": [],
   "source": [
    "var uri = \"my test.asp?name=ståle&car=saab\";\n",
    "var enc = encodeURI(uri);\n",
    "var dec = decodeURI(enc);\n",
    "console.log(enc)\n",
    "console.log(dec)"
   ]
  },
  {
   "cell_type": "markdown",
   "metadata": {},
   "source": [
    "### eval('javascript')\n",
    "- evaluates or executes an argument string as script\n",
    "- can be dangerouns if the script being evaluated can not be trusted"
   ]
  },
  {
   "cell_type": "code",
   "execution_count": null,
   "metadata": {},
   "outputs": [],
   "source": [
    "var x = 10;\n",
    "var y = 20;\n",
    "var a = eval('x * y');\n",
    "var b = eval('200 + x ');\n",
    "console.log('a =', a);\n",
    "console.log('b =', b);"
   ]
  },
  {
   "cell_type": "code",
   "execution_count": null,
   "metadata": {},
   "outputs": [],
   "source": [
    "// isFinite() - determines if a value is finite legal number\n",
    "console.log(isFinite(1999999999999));"
   ]
  },
  {
   "cell_type": "code",
   "execution_count": null,
   "metadata": {},
   "outputs": [],
   "source": [
    "// isNaN() - determines whether a value is an illegal number\n",
    "console.log(isNaN(100));\n",
    "console.log(isNaN('123'));\n",
    "console.log(isNaN('12y'));"
   ]
  },
  {
   "cell_type": "code",
   "execution_count": null,
   "metadata": {},
   "outputs": [],
   "source": [
    "// Number() - converts the object argument to a number\n",
    "console.log(Number('199'));"
   ]
  },
  {
   "cell_type": "code",
   "execution_count": null,
   "metadata": {},
   "outputs": [],
   "source": [
    "var date = new Date();\n",
    "console.log(date);\n",
    "console.log(Number(date));"
   ]
  },
  {
   "cell_type": "code",
   "execution_count": null,
   "metadata": {},
   "outputs": [],
   "source": [
    "// if the value can't be converted into a legal number, NaN is returned\n",
    "console.log(Number('abcd'));"
   ]
  },
  {
   "cell_type": "code",
   "execution_count": null,
   "metadata": {},
   "outputs": [],
   "source": [
    "// if no object argument is provided, it will return 0\n",
    "console.log(Number());"
   ]
  },
  {
   "cell_type": "code",
   "execution_count": null,
   "metadata": {},
   "outputs": [],
   "source": [
    "// parseFloat() - parses a string and returns a floating point number\n",
    "console.log(parseFloat('10'));\n",
    "console.log(parseFloat('323.224'));\n",
    "console.log(parseFloat('34.34 34 345'));\n",
    "console.log(parseFloat('    34.   '));\n",
    "console.log(parseFloat('35 years or 45 years'));\n",
    "console.log(parseFloat('definitely 45 years'));"
   ]
  },
  {
   "cell_type": "code",
   "execution_count": null,
   "metadata": {},
   "outputs": [],
   "source": [
    "// parseInt() - parses a string and returns an integer\n",
    "console.log(parseInt('10'));\n",
    "console.log(parseInt('23.23'));\n",
    "console.log(parseInt('34 3535 535'));\n",
    "console.log(parseInt('38 years'));\n",
    "console.log(parseInt('year 1990'));\n",
    "console.log('-----');\n",
    "console.log(parseInt('010'));\n",
    "console.log(parseInt('10', 8)); // 2nd argument is base\n",
    "console.log(parseInt('0x10'));\n",
    "console.log(parseInt('10', 16));"
   ]
  },
  {
   "cell_type": "code",
   "execution_count": null,
   "metadata": {},
   "outputs": [],
   "source": [
    "// String() - converts an object's value to a string\n",
    "console.log(String(1232.23));\n",
    "console.log(String(123) + String(200));\n",
    "console.log(String(Boolean(0)));\n",
    "console.log(String(Boolean(1)));\n",
    "console.log(new Date());"
   ]
  },
  {
   "cell_type": "markdown",
   "metadata": {},
   "source": [
    "## Console\n",
    "- the console module provides simple debugging console that is similar to the console mechanism provided by web browsers.\n",
    "- the global console object can be used without calling require('console')\n",
    "- has many methods - https://nodejs.org/api/console.html"
   ]
  },
  {
   "cell_type": "markdown",
   "metadata": {},
   "source": [
    "## Assert\n",
    "- The assert module provides a simple set of assertion tests that can be used to test invariants - functions/values\n",
    "- has many methods for testing values\n",
    "- https://nodejs.org/api/assert.html#assert_strict_mode"
   ]
  },
  {
   "cell_type": "code",
   "execution_count": null,
   "metadata": {},
   "outputs": [],
   "source": [
    "const assert = require('assert').strict; // strict and legacy mode availbe; but use strict"
   ]
  },
  {
   "cell_type": "code",
   "execution_count": null,
   "metadata": {},
   "outputs": [],
   "source": [
    "// assert.strictEqual(actual, expected[, message])\n",
    "assert.strictEqual(1, 2)"
   ]
  },
  {
   "cell_type": "code",
   "execution_count": null,
   "metadata": {},
   "outputs": [],
   "source": [
    "assert.strictEqual(1, 1, '1 and 1 not equal');"
   ]
  },
  {
   "cell_type": "code",
   "execution_count": null,
   "metadata": {},
   "outputs": [],
   "source": [
    "// assert.strictEqual(actual, expected[, message])\n",
    "assert.strictEqual(1, 2);"
   ]
  },
  {
   "cell_type": "code",
   "execution_count": null,
   "metadata": {},
   "outputs": [],
   "source": [
    "assert.strictEqual(1, '1', 'int 1 and string 1 not equal');"
   ]
  },
  {
   "cell_type": "code",
   "execution_count": null,
   "metadata": {},
   "outputs": [],
   "source": [
    "// assert.ok(value[, message])\n",
    "// tests if the value is truthy. Throws an AssertionError, otherwise.\n",
    "assert.ok(true);\n",
    "// ok"
   ]
  },
  {
   "cell_type": "code",
   "execution_count": null,
   "metadata": {},
   "outputs": [],
   "source": [
    "assert.ok(1);\n",
    "// ok"
   ]
  },
  {
   "cell_type": "code",
   "execution_count": null,
   "metadata": {},
   "outputs": [],
   "source": [
    "assert.ok(false);"
   ]
  },
  {
   "cell_type": "code",
   "execution_count": null,
   "metadata": {},
   "outputs": [],
   "source": [
    "assert.ok('123' == 123); \n",
    "// ok two values are equal in JS"
   ]
  },
  {
   "cell_type": "code",
   "execution_count": null,
   "metadata": {},
   "outputs": [],
   "source": [
    "assert.ok(typeof(123) === 'string');\n",
    "// values and types are not equal"
   ]
  },
  {
   "cell_type": "code",
   "execution_count": null,
   "metadata": {},
   "outputs": [],
   "source": [
    "// using assert() works the same as assert.ok()\n",
    "assert(1 == 1);"
   ]
  },
  {
   "cell_type": "code",
   "execution_count": null,
   "metadata": {},
   "outputs": [],
   "source": [
    "assert(0); // 0 is false"
   ]
  },
  {
   "cell_type": "markdown",
   "metadata": {},
   "source": [
    "## Crypto\n",
    "- The crypto module provides cryptographic functionality that includes a set of wrappers for OpenSSL's has, HMAC, cipher, decipher, sign, and verify functions"
   ]
  },
  {
   "cell_type": "code",
   "execution_count": null,
   "metadata": {},
   "outputs": [],
   "source": [
    "const crypto = require('crypto');"
   ]
  },
  {
   "cell_type": "code",
   "execution_count": null,
   "metadata": {},
   "outputs": [],
   "source": [
    "const secret = 'password123';\n",
    "const hash = crypto.createHash('sha256');\n",
    "hash.update(secret);\n",
    "console.log(hash.digest('hex'));"
   ]
  },
  {
   "cell_type": "markdown",
   "metadata": {},
   "source": [
    "## Third-party modules and packages using npm\n",
    "- https://www.npmjs.com/"
   ]
  },
  {
   "cell_type": "markdown",
   "metadata": {},
   "source": [
    "## readline-sync\n",
    "- nodejs and JS doesn't have an easy way to read from common input/keywords\n",
    "- install readline-sync package to do so easily\n",
    "- open a terminal must have installed npm; it'll be installed if nodejs is installe\n",
    "- $ npm i readline-sync"
   ]
  },
  {
   "cell_type": "code",
   "execution_count": null,
   "metadata": {},
   "outputs": [],
   "source": [
    "const input = require('readline-sync');"
   ]
  },
  {
   "cell_type": "code",
   "execution_count": null,
   "metadata": {},
   "outputs": [],
   "source": [
    "// var name = input.question('May I have your name? ')\n",
    "// doesn't work in Jupyter yet... try it on console\n",
    "// see input.js script inside JSDemo folder"
   ]
  },
  {
   "cell_type": "code",
   "execution_count": null,
   "metadata": {},
   "outputs": [],
   "source": []
  }
 ],
 "metadata": {
  "kernelspec": {
   "display_name": "Javascript (Node.js)",
   "language": "javascript",
   "name": "javascript"
  },
  "language_info": {
   "file_extension": ".js",
   "mimetype": "application/javascript",
   "name": "javascript",
   "version": "10.10.0"
  }
 },
 "nbformat": 4,
 "nbformat_minor": 2
}
